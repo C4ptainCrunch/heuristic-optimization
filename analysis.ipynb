{
 "cells": [
  {
   "cell_type": "markdown",
   "metadata": {},
   "source": [
    "# Heuristic Optimization : Implementation exercise 1, results\n",
    "\n",
    "This IPython notebook analyzes the behaviour of my implementation when using diferent parameters.\n",
    "\n",
    "First, we import some usefull tools"
   ]
  },
  {
   "cell_type": "code",
   "execution_count": 1,
   "metadata": {
    "collapsed": false
   },
   "outputs": [
    {
     "name": "stdout",
     "output_type": "stream",
     "text": [
      "Populating the interactive namespace from numpy and matplotlib\n"
     ]
    }
   ],
   "source": [
    "import os\n",
    "import subprocess\n",
    "import time\n",
    "import numpy as np\n",
    "import scipy.stats\n",
    "import itertools\n",
    "%pylab inline"
   ]
  },
  {
   "cell_type": "markdown",
   "metadata": {},
   "source": [
    "Then we define some functions needed to genrerate all the combinations of arguments we want to analyze plus some utilities to effectively call the binary"
   ]
  },
  {
   "cell_type": "code",
   "execution_count": 2,
   "metadata": {
    "collapsed": true
   },
   "outputs": [],
   "source": [
    "NEIGH = [\"--transpose\", \"--exchange\", \"--insert\", \"--vnd-tei\", \"--vnd-tie\"]\n",
    "INIT = [\"--random-init\", \"--srz\"]\n",
    "IMPROVE = ['--first', '--best']\n",
    "def run_binary(t):\n",
    "    instance, init, improvement, neighbourhood = t\n",
    "    try:\n",
    "        init = INIT[init]\n",
    "        improvement = IMPROVE[improvement]\n",
    "        neighbourhood = NEIGH[neighbourhood]\n",
    "        command = \"./fssp \" + \" \".join([instance, init, improvement, neighbourhood])\n",
    "        comp_time = -time.time()\n",
    "        output = subprocess.check_output(command, shell=True, stderr=subprocess.DEVNULL)\n",
    "        comp_time = comp_time + time.time()\n",
    "        score = output.decode('utf-8').strip()\n",
    "        return command, int(score), comp_time\n",
    "    except Exception as e:\n",
    "        print(e)\n",
    "        return command, None, None\n",
    "\n",
    "\n",
    "def instance_calls(instance):\n",
    "    for init in [0, 1]:\n",
    "        for improvement in [0, 1]:\n",
    "            for neighbourhood in [0, 1, 2, 3, 4]:\n",
    "                if neighbourhood in (3,4) and (improvement == 1 or init == 0):\n",
    "                    continue # skip --vnd-* combined with --random-init or --best\n",
    "                    # as it will be ignored by the binary (see ./fssp -h)\n",
    "                yield (instance, init, improvement, neighbourhood)\n",
    "        \n",
    "    \n",
    "\n",
    "def get_instance_files():\n",
    "    for filename in os.listdir(\"instances\"):\n",
    "        if filename != \"bestSolutions.txt\":\n",
    "            yield os.path.join(\"instances/\", filename)"
   ]
  },
  {
   "cell_type": "code",
   "execution_count": 3,
   "metadata": {
    "collapsed": false
   },
   "outputs": [],
   "source": [
    "import itertools\n",
    "binary_calls = list(itertools.chain(*[instance_calls(name) for name in get_instance_files()]))"
   ]
  },
  {
   "cell_type": "code",
   "execution_count": 4,
   "metadata": {
    "collapsed": false
   },
   "outputs": [
    {
     "data": {
      "text/plain": [
       "840"
      ]
     },
     "execution_count": 4,
     "metadata": {},
     "output_type": "execute_result"
    }
   ],
   "source": [
    "len(binary_calls)"
   ]
  },
  {
   "cell_type": "markdown",
   "metadata": {},
   "source": [
    "After generating all the combinaisons, we can call out binary using `run_binary`. \n",
    "We encapsulate everything in a `Pool` for multiprocessing and `tqdm` to have a progess bar"
   ]
  },
  {
   "cell_type": "code",
   "execution_count": 5,
   "metadata": {
    "collapsed": false
   },
   "outputs": [],
   "source": [
    "import multiprocessing\n",
    "from tqdm import tqdm as tqdm"
   ]
  },
  {
   "cell_type": "code",
   "execution_count": 6,
   "metadata": {
    "collapsed": false
   },
   "outputs": [
    {
     "name": "stderr",
     "output_type": "stream",
     "text": [
      "100%|██████████| 840/840 [06:21<00:00,  2.12s/it]\n"
     ]
    }
   ],
   "source": [
    "p = multiprocessing.Pool(None) # use all cpus\n",
    "res = list(tqdm(p.imap_unordered(run_binary, binary_calls), total=len(binary_calls)))"
   ]
  },
  {
   "cell_type": "code",
   "execution_count": 7,
   "metadata": {
    "collapsed": true
   },
   "outputs": [],
   "source": [
    "import pandas as pd\n",
    "\n",
    "def ntype(s):\n",
    "    for n in NEIGH:\n",
    "        if n in s:\n",
    "            return n"
   ]
  },
  {
   "cell_type": "markdown",
   "metadata": {},
   "source": [
    "In the next few cells, we format the results to push them inside a Pandas DataFrame for easy manipulation.\n",
    "Then we read the best solutions from a file and merge it with our DataFrame"
   ]
  },
  {
   "cell_type": "code",
   "execution_count": 8,
   "metadata": {
    "collapsed": false
   },
   "outputs": [],
   "source": [
    "processed = [\n",
    "    {\n",
    "        \"instance\": s.split()[1][10:],\n",
    "        \"n_jobs\": int(s.split()[1][10:].split(\"_\")[0]),\n",
    "        \"init\": \"srz\" if \"srz\" in s else \"random\",\n",
    "        \"pivot\": \"best\" if \"best\" in s else \"first\",\n",
    "        \"neighborhood\": ntype(s).replace(\"--\", \"\"),\n",
    "        \"score\": score,\n",
    "        \"time\": time,\n",
    "        \n",
    "    }\n",
    "    for s, score, time in res\n",
    "]"
   ]
  },
  {
   "cell_type": "code",
   "execution_count": 9,
   "metadata": {
    "collapsed": false
   },
   "outputs": [
    {
     "data": {
      "text/html": [
       "<div>\n",
       "<table border=\"1\" class=\"dataframe\">\n",
       "  <thead>\n",
       "    <tr style=\"text-align: right;\">\n",
       "      <th></th>\n",
       "      <th>init</th>\n",
       "      <th>instance</th>\n",
       "      <th>n_jobs</th>\n",
       "      <th>neighborhood</th>\n",
       "      <th>pivot</th>\n",
       "      <th>score</th>\n",
       "      <th>time</th>\n",
       "    </tr>\n",
       "  </thead>\n",
       "  <tbody>\n",
       "    <tr>\n",
       "      <th>420</th>\n",
       "      <td>random</td>\n",
       "      <td>50_20_05</td>\n",
       "      <td>50</td>\n",
       "      <td>transpose</td>\n",
       "      <td>best</td>\n",
       "      <td>857048</td>\n",
       "      <td>0.015512</td>\n",
       "    </tr>\n",
       "  </tbody>\n",
       "</table>\n",
       "</div>"
      ],
      "text/plain": [
       "       init  instance  n_jobs neighborhood pivot   score      time\n",
       "420  random  50_20_05      50    transpose  best  857048  0.015512"
      ]
     },
     "execution_count": 9,
     "metadata": {},
     "output_type": "execute_result"
    }
   ],
   "source": [
    "df = pd.DataFrame(processed)\n",
    "df.sample()"
   ]
  },
  {
   "cell_type": "code",
   "execution_count": 10,
   "metadata": {
    "collapsed": false
   },
   "outputs": [
    {
     "data": {
      "text/html": [
       "<div>\n",
       "<table border=\"1\" class=\"dataframe\">\n",
       "  <thead>\n",
       "    <tr style=\"text-align: right;\">\n",
       "      <th></th>\n",
       "      <th>instance</th>\n",
       "      <th>best_solution</th>\n",
       "    </tr>\n",
       "  </thead>\n",
       "  <tbody>\n",
       "    <tr>\n",
       "      <th>20</th>\n",
       "      <td>100_20_21</td>\n",
       "      <td>1709120</td>\n",
       "    </tr>\n",
       "  </tbody>\n",
       "</table>\n",
       "</div>"
      ],
      "text/plain": [
       "     instance  best_solution\n",
       "20  100_20_21        1709120"
      ]
     },
     "execution_count": 10,
     "metadata": {},
     "output_type": "execute_result"
    }
   ],
   "source": [
    "best = pd.read_csv(\"instances/bestSolutions.txt\")\n",
    "best.columns = [\"instance\", \"best_solution\"]\n",
    "best.instance = best.instance.str.strip()\n",
    "best.best_solution = best.best_solution.astype(int)\n",
    "best.sample()"
   ]
  },
  {
   "cell_type": "code",
   "execution_count": 11,
   "metadata": {
    "collapsed": false
   },
   "outputs": [
    {
     "data": {
      "text/html": [
       "<div>\n",
       "<table border=\"1\" class=\"dataframe\">\n",
       "  <thead>\n",
       "    <tr style=\"text-align: right;\">\n",
       "      <th></th>\n",
       "      <th>init</th>\n",
       "      <th>instance</th>\n",
       "      <th>n_jobs</th>\n",
       "      <th>neighborhood</th>\n",
       "      <th>pivot</th>\n",
       "      <th>score</th>\n",
       "      <th>time</th>\n",
       "      <th>best_solution</th>\n",
       "    </tr>\n",
       "  </thead>\n",
       "  <tbody>\n",
       "    <tr>\n",
       "      <th>382</th>\n",
       "      <td>srz</td>\n",
       "      <td>100_20_07</td>\n",
       "      <td>100</td>\n",
       "      <td>exchange</td>\n",
       "      <td>first</td>\n",
       "      <td>1831119</td>\n",
       "      <td>0.710617</td>\n",
       "      <td>1783580</td>\n",
       "    </tr>\n",
       "  </tbody>\n",
       "</table>\n",
       "</div>"
      ],
      "text/plain": [
       "    init   instance  n_jobs neighborhood  pivot    score      time  \\\n",
       "382  srz  100_20_07     100     exchange  first  1831119  0.710617   \n",
       "\n",
       "     best_solution  \n",
       "382        1783580  "
      ]
     },
     "execution_count": 11,
     "metadata": {},
     "output_type": "execute_result"
    }
   ],
   "source": [
    "merged = pd.merge(df, best, on=\"instance\", how=\"left\")\n",
    "merged.sample()"
   ]
  },
  {
   "cell_type": "markdown",
   "metadata": {},
   "source": [
    "We see that none of our solutions are better than the best known (that was expected)"
   ]
  },
  {
   "cell_type": "code",
   "execution_count": 12,
   "metadata": {
    "collapsed": false
   },
   "outputs": [
    {
     "data": {
      "text/html": [
       "<div>\n",
       "<table border=\"1\" class=\"dataframe\">\n",
       "  <thead>\n",
       "    <tr style=\"text-align: right;\">\n",
       "      <th></th>\n",
       "      <th>init</th>\n",
       "      <th>instance</th>\n",
       "      <th>n_jobs</th>\n",
       "      <th>neighborhood</th>\n",
       "      <th>pivot</th>\n",
       "      <th>score</th>\n",
       "      <th>time</th>\n",
       "      <th>best_solution</th>\n",
       "    </tr>\n",
       "  </thead>\n",
       "  <tbody>\n",
       "  </tbody>\n",
       "</table>\n",
       "</div>"
      ],
      "text/plain": [
       "Empty DataFrame\n",
       "Columns: [init, instance, n_jobs, neighborhood, pivot, score, time, best_solution]\n",
       "Index: []"
      ]
     },
     "execution_count": 12,
     "metadata": {},
     "output_type": "execute_result"
    }
   ],
   "source": [
    "merged[merged.best_solution >= merged.score]"
   ]
  },
  {
   "cell_type": "markdown",
   "metadata": {},
   "source": [
    "# Exercise 1\n",
    "\n",
    "We filter the invocations to keep only what we need for the first exercise and add a new column : the relative deviation"
   ]
  },
  {
   "cell_type": "code",
   "execution_count": 13,
   "metadata": {
    "collapsed": true
   },
   "outputs": [],
   "source": [
    "ex1 = merged[(merged.neighborhood != \"vnd-tei\") & (merged.neighborhood != \"vnd-tie\")]"
   ]
  },
  {
   "cell_type": "code",
   "execution_count": 14,
   "metadata": {
    "collapsed": false,
    "scrolled": true
   },
   "outputs": [
    {
     "name": "stderr",
     "output_type": "stream",
     "text": [
      "/usr/lib/python3.5/site-packages/ipykernel/__main__.py:1: SettingWithCopyWarning: \n",
      "A value is trying to be set on a copy of a slice from a DataFrame.\n",
      "Try using .loc[row_indexer,col_indexer] = value instead\n",
      "\n",
      "See the caveats in the documentation: http://pandas.pydata.org/pandas-docs/stable/indexing.html#indexing-view-versus-copy\n",
      "  if __name__ == '__main__':\n"
     ]
    }
   ],
   "source": [
    "ex1['rel_deviation'] = 100 * (ex1['score'] - ex1['best_solution']) / ex1['best_solution']"
   ]
  },
  {
   "cell_type": "markdown",
   "metadata": {},
   "source": [
    "## Mean deviation per method"
   ]
  },
  {
   "cell_type": "code",
   "execution_count": 44,
   "metadata": {
    "collapsed": false,
    "scrolled": true
   },
   "outputs": [
    {
     "data": {
      "text/html": [
       "<div>\n",
       "<table border=\"1\" class=\"dataframe\">\n",
       "  <thead>\n",
       "    <tr style=\"text-align: right;\">\n",
       "      <th></th>\n",
       "      <th></th>\n",
       "      <th></th>\n",
       "      <th>rel_deviation</th>\n",
       "    </tr>\n",
       "    <tr>\n",
       "      <th>init</th>\n",
       "      <th>pivot</th>\n",
       "      <th>neighborhood</th>\n",
       "      <th></th>\n",
       "    </tr>\n",
       "  </thead>\n",
       "  <tbody>\n",
       "    <tr>\n",
       "      <th rowspan=\"6\" valign=\"top\">random</th>\n",
       "      <th rowspan=\"3\" valign=\"top\">best</th>\n",
       "      <th>exchange</th>\n",
       "      <td>4.526442</td>\n",
       "    </tr>\n",
       "    <tr>\n",
       "      <th>insert</th>\n",
       "      <td>9.536986</td>\n",
       "    </tr>\n",
       "    <tr>\n",
       "      <th>transpose</th>\n",
       "      <td>37.422758</td>\n",
       "    </tr>\n",
       "    <tr>\n",
       "      <th rowspan=\"3\" valign=\"top\">first</th>\n",
       "      <th>exchange</th>\n",
       "      <td>1.840076</td>\n",
       "    </tr>\n",
       "    <tr>\n",
       "      <th>insert</th>\n",
       "      <td>6.995218</td>\n",
       "    </tr>\n",
       "    <tr>\n",
       "      <th>transpose</th>\n",
       "      <td>36.153227</td>\n",
       "    </tr>\n",
       "    <tr>\n",
       "      <th rowspan=\"6\" valign=\"top\">srz</th>\n",
       "      <th rowspan=\"3\" valign=\"top\">best</th>\n",
       "      <th>exchange</th>\n",
       "      <td>3.109973</td>\n",
       "    </tr>\n",
       "    <tr>\n",
       "      <th>insert</th>\n",
       "      <td>3.161487</td>\n",
       "    </tr>\n",
       "    <tr>\n",
       "      <th>transpose</th>\n",
       "      <td>4.144504</td>\n",
       "    </tr>\n",
       "    <tr>\n",
       "      <th rowspan=\"3\" valign=\"top\">first</th>\n",
       "      <th>exchange</th>\n",
       "      <td>2.988648</td>\n",
       "    </tr>\n",
       "    <tr>\n",
       "      <th>insert</th>\n",
       "      <td>2.935848</td>\n",
       "    </tr>\n",
       "    <tr>\n",
       "      <th>transpose</th>\n",
       "      <td>4.130356</td>\n",
       "    </tr>\n",
       "  </tbody>\n",
       "</table>\n",
       "</div>"
      ],
      "text/plain": [
       "                           rel_deviation\n",
       "init   pivot neighborhood               \n",
       "random best  exchange           4.526442\n",
       "             insert             9.536986\n",
       "             transpose         37.422758\n",
       "       first exchange           1.840076\n",
       "             insert             6.995218\n",
       "             transpose         36.153227\n",
       "srz    best  exchange           3.109973\n",
       "             insert             3.161487\n",
       "             transpose          4.144504\n",
       "       first exchange           2.988648\n",
       "             insert             2.935848\n",
       "             transpose          4.130356"
      ]
     },
     "execution_count": 44,
     "metadata": {},
     "output_type": "execute_result"
    }
   ],
   "source": [
    "ex1.groupby([\"init\", \"pivot\", \"neighborhood\"]).mean()[[\"rel_deviation\"]]"
   ]
  },
  {
   "cell_type": "markdown",
   "metadata": {},
   "source": [
    "## Mean computation time per method and instance size"
   ]
  },
  {
   "cell_type": "code",
   "execution_count": 48,
   "metadata": {
    "collapsed": false
   },
   "outputs": [
    {
     "data": {
      "text/html": [
       "<div>\n",
       "<table border=\"1\" class=\"dataframe\">\n",
       "  <thead>\n",
       "    <tr style=\"text-align: right;\">\n",
       "      <th></th>\n",
       "      <th></th>\n",
       "      <th></th>\n",
       "      <th></th>\n",
       "      <th>time</th>\n",
       "    </tr>\n",
       "    <tr>\n",
       "      <th>init</th>\n",
       "      <th>pivot</th>\n",
       "      <th>neighborhood</th>\n",
       "      <th>n_jobs</th>\n",
       "      <th></th>\n",
       "    </tr>\n",
       "  </thead>\n",
       "  <tbody>\n",
       "    <tr>\n",
       "      <th rowspan=\"12\" valign=\"top\">random</th>\n",
       "      <th rowspan=\"6\" valign=\"top\">best</th>\n",
       "      <th rowspan=\"2\" valign=\"top\">exchange</th>\n",
       "      <th>50</th>\n",
       "      <td>0.206074</td>\n",
       "    </tr>\n",
       "    <tr>\n",
       "      <th>100</th>\n",
       "      <td>3.410456</td>\n",
       "    </tr>\n",
       "    <tr>\n",
       "      <th rowspan=\"2\" valign=\"top\">insert</th>\n",
       "      <th>50</th>\n",
       "      <td>0.250388</td>\n",
       "    </tr>\n",
       "    <tr>\n",
       "      <th>100</th>\n",
       "      <td>3.855229</td>\n",
       "    </tr>\n",
       "    <tr>\n",
       "      <th rowspan=\"2\" valign=\"top\">transpose</th>\n",
       "      <th>50</th>\n",
       "      <td>0.017638</td>\n",
       "    </tr>\n",
       "    <tr>\n",
       "      <th>100</th>\n",
       "      <td>0.080919</td>\n",
       "    </tr>\n",
       "    <tr>\n",
       "      <th rowspan=\"6\" valign=\"top\">first</th>\n",
       "      <th rowspan=\"2\" valign=\"top\">exchange</th>\n",
       "      <th>50</th>\n",
       "      <td>0.645275</td>\n",
       "    </tr>\n",
       "    <tr>\n",
       "      <th>100</th>\n",
       "      <td>15.081069</td>\n",
       "    </tr>\n",
       "    <tr>\n",
       "      <th rowspan=\"2\" valign=\"top\">insert</th>\n",
       "      <th>50</th>\n",
       "      <td>0.830786</td>\n",
       "    </tr>\n",
       "    <tr>\n",
       "      <th>100</th>\n",
       "      <td>19.725573</td>\n",
       "    </tr>\n",
       "    <tr>\n",
       "      <th rowspan=\"2\" valign=\"top\">transpose</th>\n",
       "      <th>50</th>\n",
       "      <td>0.022015</td>\n",
       "    </tr>\n",
       "    <tr>\n",
       "      <th>100</th>\n",
       "      <td>0.083597</td>\n",
       "    </tr>\n",
       "    <tr>\n",
       "      <th rowspan=\"12\" valign=\"top\">srz</th>\n",
       "      <th rowspan=\"6\" valign=\"top\">best</th>\n",
       "      <th rowspan=\"2\" valign=\"top\">exchange</th>\n",
       "      <th>50</th>\n",
       "      <td>0.057918</td>\n",
       "    </tr>\n",
       "    <tr>\n",
       "      <th>100</th>\n",
       "      <td>0.771066</td>\n",
       "    </tr>\n",
       "    <tr>\n",
       "      <th rowspan=\"2\" valign=\"top\">insert</th>\n",
       "      <th>50</th>\n",
       "      <td>0.057227</td>\n",
       "    </tr>\n",
       "    <tr>\n",
       "      <th>100</th>\n",
       "      <td>0.751073</td>\n",
       "    </tr>\n",
       "    <tr>\n",
       "      <th rowspan=\"2\" valign=\"top\">transpose</th>\n",
       "      <th>50</th>\n",
       "      <td>0.015344</td>\n",
       "    </tr>\n",
       "    <tr>\n",
       "      <th>100</th>\n",
       "      <td>0.042693</td>\n",
       "    </tr>\n",
       "    <tr>\n",
       "      <th rowspan=\"6\" valign=\"top\">first</th>\n",
       "      <th rowspan=\"2\" valign=\"top\">exchange</th>\n",
       "      <th>50</th>\n",
       "      <td>0.053892</td>\n",
       "    </tr>\n",
       "    <tr>\n",
       "      <th>100</th>\n",
       "      <td>1.070865</td>\n",
       "    </tr>\n",
       "    <tr>\n",
       "      <th rowspan=\"2\" valign=\"top\">insert</th>\n",
       "      <th>50</th>\n",
       "      <td>0.071624</td>\n",
       "    </tr>\n",
       "    <tr>\n",
       "      <th>100</th>\n",
       "      <td>1.092688</td>\n",
       "    </tr>\n",
       "    <tr>\n",
       "      <th rowspan=\"2\" valign=\"top\">transpose</th>\n",
       "      <th>50</th>\n",
       "      <td>0.016870</td>\n",
       "    </tr>\n",
       "    <tr>\n",
       "      <th>100</th>\n",
       "      <td>0.040687</td>\n",
       "    </tr>\n",
       "  </tbody>\n",
       "</table>\n",
       "</div>"
      ],
      "text/plain": [
       "                                       time\n",
       "init   pivot neighborhood n_jobs           \n",
       "random best  exchange     50       0.206074\n",
       "                          100      3.410456\n",
       "             insert       50       0.250388\n",
       "                          100      3.855229\n",
       "             transpose    50       0.017638\n",
       "                          100      0.080919\n",
       "       first exchange     50       0.645275\n",
       "                          100     15.081069\n",
       "             insert       50       0.830786\n",
       "                          100     19.725573\n",
       "             transpose    50       0.022015\n",
       "                          100      0.083597\n",
       "srz    best  exchange     50       0.057918\n",
       "                          100      0.771066\n",
       "             insert       50       0.057227\n",
       "                          100      0.751073\n",
       "             transpose    50       0.015344\n",
       "                          100      0.042693\n",
       "       first exchange     50       0.053892\n",
       "                          100      1.070865\n",
       "             insert       50       0.071624\n",
       "                          100      1.092688\n",
       "             transpose    50       0.016870\n",
       "                          100      0.040687"
      ]
     },
     "execution_count": 48,
     "metadata": {},
     "output_type": "execute_result"
    }
   ],
   "source": [
    "ex1.groupby([\"init\", \"pivot\", \"neighborhood\", \"n_jobs\"]).mean()[[\"time\"]]"
   ]
  },
  {
   "cell_type": "markdown",
   "metadata": {},
   "source": [
    "## Statistical test preparation\n",
    "\n",
    "We group every solution deviation resp. time by it's methods and store it in `deviation_per_algo` resp. `time_per_algo`"
   ]
  },
  {
   "cell_type": "code",
   "execution_count": 50,
   "metadata": {
    "collapsed": false
   },
   "outputs": [],
   "source": [
    "deviation_per_algo = {}\n",
    "for keys, rows in ex1.groupby([\"init\", \"pivot\", \"neighborhood\"]):\n",
    "    deviation_per_algo[keys] = rows.rel_deviation.as_matrix()"
   ]
  },
  {
   "cell_type": "code",
   "execution_count": 73,
   "metadata": {
    "collapsed": true
   },
   "outputs": [],
   "source": [
    "time_per_algo = {}\n",
    "for keys, rows in ex1.groupby([\"init\", \"pivot\", \"neighborhood\"]):\n",
    "    time_per_algo[keys] = rows.time.as_matrix()"
   ]
  },
  {
   "cell_type": "markdown",
   "metadata": {},
   "source": [
    "## Comparaison of the initialization method\n",
    "\n",
    "Smaller is best, `True` means that the p-value is lover than 0.05 thus there is a significant difference between the two."
   ]
  },
  {
   "cell_type": "code",
   "execution_count": 64,
   "metadata": {
    "collapsed": false
   },
   "outputs": [
    {
     "data": {
      "text/html": [
       "<div>\n",
       "<table border=\"1\" class=\"dataframe\">\n",
       "  <thead>\n",
       "    <tr style=\"text-align: right;\">\n",
       "      <th></th>\n",
       "      <th>random vs srz</th>\n",
       "      <th>smaller</th>\n",
       "    </tr>\n",
       "    <tr>\n",
       "      <th>algo</th>\n",
       "      <th></th>\n",
       "      <th></th>\n",
       "    </tr>\n",
       "  </thead>\n",
       "  <tbody>\n",
       "    <tr>\n",
       "      <th>first-exchange</th>\n",
       "      <td>True</td>\n",
       "      <td>random</td>\n",
       "    </tr>\n",
       "    <tr>\n",
       "      <th>first-insert</th>\n",
       "      <td>True</td>\n",
       "      <td>srz</td>\n",
       "    </tr>\n",
       "    <tr>\n",
       "      <th>first-transpose</th>\n",
       "      <td>True</td>\n",
       "      <td>srz</td>\n",
       "    </tr>\n",
       "    <tr>\n",
       "      <th>best-exchange</th>\n",
       "      <td>True</td>\n",
       "      <td>srz</td>\n",
       "    </tr>\n",
       "    <tr>\n",
       "      <th>best-insert</th>\n",
       "      <td>True</td>\n",
       "      <td>srz</td>\n",
       "    </tr>\n",
       "    <tr>\n",
       "      <th>best-transpose</th>\n",
       "      <td>True</td>\n",
       "      <td>srz</td>\n",
       "    </tr>\n",
       "  </tbody>\n",
       "</table>\n",
       "</div>"
      ],
      "text/plain": [
       "                random vs srz smaller\n",
       "algo                                 \n",
       "first-exchange           True  random\n",
       "first-insert             True     srz\n",
       "first-transpose          True     srz\n",
       "best-exchange            True     srz\n",
       "best-insert              True     srz\n",
       "best-transpose           True     srz"
      ]
     },
     "execution_count": 64,
     "metadata": {},
     "output_type": "execute_result"
    }
   ],
   "source": [
    "compare_init = np.zeros((6,))\n",
    "a = []\n",
    "r = list(itertools.product(['first', 'best'], ['exchange', 'insert', 'transpose']))\n",
    "for i, rest in enumerate(r):\n",
    "    algo1 = (\"random\",) + rest\n",
    "    algo2 = (\"srz\",) + rest\n",
    "    t, p =  scipy.stats.ttest_rel(deviation_per_algo[algo1], deviation_per_algo[algo2])\n",
    "    compare_init[i] = p\n",
    "    a.append(\"random\" if t < 0 else \"srz\")\n",
    "compare_init = pd.DataFrame(compare_init < 0.05, columns=[\"random vs srz\"])\n",
    "compare_init[\"algo\"] = list(map(lambda x: \"%s-%s\" % x, r))\n",
    "compare_init[\"smaller\"] = a\n",
    "compare_init.set_index(\"algo\", inplace=True)\n",
    "compare_init"
   ]
  },
  {
   "cell_type": "markdown",
   "metadata": {},
   "source": [
    "## Comparaison of the pivot method\n",
    "\n",
    "Smaller is best, `True` means that the p-value is lover than 0.05 thus there is a significant difference between the two.\n",
    "\n",
    "### Deviation"
   ]
  },
  {
   "cell_type": "code",
   "execution_count": 63,
   "metadata": {
    "collapsed": false
   },
   "outputs": [
    {
     "data": {
      "text/html": [
       "<div>\n",
       "<table border=\"1\" class=\"dataframe\">\n",
       "  <thead>\n",
       "    <tr style=\"text-align: right;\">\n",
       "      <th></th>\n",
       "      <th>first vs best</th>\n",
       "      <th>smaller</th>\n",
       "    </tr>\n",
       "    <tr>\n",
       "      <th>algo</th>\n",
       "      <th></th>\n",
       "      <th></th>\n",
       "    </tr>\n",
       "  </thead>\n",
       "  <tbody>\n",
       "    <tr>\n",
       "      <th>random-exchange</th>\n",
       "      <td>True</td>\n",
       "      <td>first</td>\n",
       "    </tr>\n",
       "    <tr>\n",
       "      <th>random-insert</th>\n",
       "      <td>True</td>\n",
       "      <td>first</td>\n",
       "    </tr>\n",
       "    <tr>\n",
       "      <th>random-transpose</th>\n",
       "      <td>True</td>\n",
       "      <td>first</td>\n",
       "    </tr>\n",
       "    <tr>\n",
       "      <th>srz-exchange</th>\n",
       "      <td>False</td>\n",
       "      <td>first</td>\n",
       "    </tr>\n",
       "    <tr>\n",
       "      <th>srz-insert</th>\n",
       "      <td>True</td>\n",
       "      <td>first</td>\n",
       "    </tr>\n",
       "    <tr>\n",
       "      <th>srz-transpose</th>\n",
       "      <td>False</td>\n",
       "      <td>first</td>\n",
       "    </tr>\n",
       "  </tbody>\n",
       "</table>\n",
       "</div>"
      ],
      "text/plain": [
       "                 first vs best smaller\n",
       "algo                                  \n",
       "random-exchange           True   first\n",
       "random-insert             True   first\n",
       "random-transpose          True   first\n",
       "srz-exchange             False   first\n",
       "srz-insert                True   first\n",
       "srz-transpose            False   first"
      ]
     },
     "execution_count": 63,
     "metadata": {},
     "output_type": "execute_result"
    }
   ],
   "source": [
    "compare_pivot = np.zeros((6,))\n",
    "a = []\n",
    "r = list(itertools.product(['random', 'srz'], ['exchange', 'insert', 'transpose']))\n",
    "for i, rest in enumerate(r):\n",
    "    algo1 = (rest[0], \"first\", rest[1])\n",
    "    algo2 = (rest[0], \"best\", rest[1])\n",
    "    t, p = scipy.stats.ttest_rel(deviation_per_algo[algo1], deviation_per_algo[algo2])\n",
    "    compare_pivot[i] = p\n",
    "    a.append(\"first\" if t < 0 else \"best\")\n",
    "\n",
    "compare_pivot = pd.DataFrame(compare_pivot < 0.05, columns=[\"first vs best\"])\n",
    "compare_pivot[\"algo\"] = list(map(lambda x: \"%s-%s\" % x, r))\n",
    "compare_pivot.set_index(\"algo\", inplace=True)\n",
    "compare_pivot[\"smaller\"] = a\n",
    "compare_pivot"
   ]
  },
  {
   "cell_type": "markdown",
   "metadata": {},
   "source": [
    "### Computation time"
   ]
  },
  {
   "cell_type": "code",
   "execution_count": 74,
   "metadata": {
    "collapsed": false
   },
   "outputs": [
    {
     "data": {
      "text/html": [
       "<div>\n",
       "<table border=\"1\" class=\"dataframe\">\n",
       "  <thead>\n",
       "    <tr style=\"text-align: right;\">\n",
       "      <th></th>\n",
       "      <th>first vs best</th>\n",
       "      <th>smaller</th>\n",
       "    </tr>\n",
       "    <tr>\n",
       "      <th>algo</th>\n",
       "      <th></th>\n",
       "      <th></th>\n",
       "    </tr>\n",
       "  </thead>\n",
       "  <tbody>\n",
       "    <tr>\n",
       "      <th>random-exchange</th>\n",
       "      <td>True</td>\n",
       "      <td>best</td>\n",
       "    </tr>\n",
       "    <tr>\n",
       "      <th>random-insert</th>\n",
       "      <td>True</td>\n",
       "      <td>best</td>\n",
       "    </tr>\n",
       "    <tr>\n",
       "      <th>random-transpose</th>\n",
       "      <td>False</td>\n",
       "      <td>best</td>\n",
       "    </tr>\n",
       "    <tr>\n",
       "      <th>srz-exchange</th>\n",
       "      <td>True</td>\n",
       "      <td>best</td>\n",
       "    </tr>\n",
       "    <tr>\n",
       "      <th>srz-insert</th>\n",
       "      <td>True</td>\n",
       "      <td>best</td>\n",
       "    </tr>\n",
       "    <tr>\n",
       "      <th>srz-transpose</th>\n",
       "      <td>False</td>\n",
       "      <td>first</td>\n",
       "    </tr>\n",
       "  </tbody>\n",
       "</table>\n",
       "</div>"
      ],
      "text/plain": [
       "                 first vs best smaller\n",
       "algo                                  \n",
       "random-exchange           True    best\n",
       "random-insert             True    best\n",
       "random-transpose         False    best\n",
       "srz-exchange              True    best\n",
       "srz-insert                True    best\n",
       "srz-transpose            False   first"
      ]
     },
     "execution_count": 74,
     "metadata": {},
     "output_type": "execute_result"
    }
   ],
   "source": [
    "compare_pivot = np.zeros((6,))\n",
    "a = []\n",
    "r = list(itertools.product(['random', 'srz'], ['exchange', 'insert', 'transpose']))\n",
    "for i, rest in enumerate(r):\n",
    "    algo1 = (rest[0], \"first\", rest[1])\n",
    "    algo2 = (rest[0], \"best\", rest[1])\n",
    "    t, p = scipy.stats.ttest_rel(time_per_algo[algo1], time_per_algo[algo2])\n",
    "    compare_pivot[i] = p\n",
    "    a.append(\"first\" if t < 0 else \"best\")\n",
    "\n",
    "compare_pivot = pd.DataFrame(compare_pivot < 0.05, columns=[\"first vs best\"])\n",
    "compare_pivot[\"algo\"] = list(map(lambda x: \"%s-%s\" % x, r))\n",
    "compare_pivot.set_index(\"algo\", inplace=True)\n",
    "compare_pivot[\"smaller\"] = a\n",
    "compare_pivot"
   ]
  },
  {
   "cell_type": "markdown",
   "metadata": {},
   "source": [
    "## Comparaison of the neighborhood method\n",
    "\n",
    "Smaller is best, `True` means that the p-value is lover than 0.05 thus there is a significant difference between the two.\n",
    "\n",
    "### Deviation"
   ]
  },
  {
   "cell_type": "code",
   "execution_count": 72,
   "metadata": {
    "collapsed": false
   },
   "outputs": [
    {
     "data": {
      "text/html": [
       "<div>\n",
       "<table border=\"1\" class=\"dataframe\">\n",
       "  <thead>\n",
       "    <tr style=\"text-align: right;\">\n",
       "      <th></th>\n",
       "      <th>exchange vs insert</th>\n",
       "      <th>exchange vs transpose</th>\n",
       "      <th>insert vs transpose</th>\n",
       "      <th>smaller ei</th>\n",
       "      <th>smaller et</th>\n",
       "      <th>smaller it</th>\n",
       "    </tr>\n",
       "    <tr>\n",
       "      <th>algo</th>\n",
       "      <th></th>\n",
       "      <th></th>\n",
       "      <th></th>\n",
       "      <th></th>\n",
       "      <th></th>\n",
       "      <th></th>\n",
       "    </tr>\n",
       "  </thead>\n",
       "  <tbody>\n",
       "    <tr>\n",
       "      <th>random-first</th>\n",
       "      <td>True</td>\n",
       "      <td>True</td>\n",
       "      <td>True</td>\n",
       "      <td>exchange</td>\n",
       "      <td>exchange</td>\n",
       "      <td>insert</td>\n",
       "    </tr>\n",
       "    <tr>\n",
       "      <th>random-best</th>\n",
       "      <td>True</td>\n",
       "      <td>True</td>\n",
       "      <td>True</td>\n",
       "      <td>exchange</td>\n",
       "      <td>exchange</td>\n",
       "      <td>insert</td>\n",
       "    </tr>\n",
       "    <tr>\n",
       "      <th>srz-first</th>\n",
       "      <td>False</td>\n",
       "      <td>True</td>\n",
       "      <td>True</td>\n",
       "      <td>insert</td>\n",
       "      <td>exchange</td>\n",
       "      <td>insert</td>\n",
       "    </tr>\n",
       "    <tr>\n",
       "      <th>srz-best</th>\n",
       "      <td>False</td>\n",
       "      <td>True</td>\n",
       "      <td>True</td>\n",
       "      <td>exchange</td>\n",
       "      <td>exchange</td>\n",
       "      <td>insert</td>\n",
       "    </tr>\n",
       "  </tbody>\n",
       "</table>\n",
       "</div>"
      ],
      "text/plain": [
       "             exchange vs insert exchange vs transpose insert vs transpose  \\\n",
       "algo                                                                        \n",
       "random-first               True                  True                True   \n",
       "random-best                True                  True                True   \n",
       "srz-first                 False                  True                True   \n",
       "srz-best                  False                  True                True   \n",
       "\n",
       "             smaller ei smaller et smaller it  \n",
       "algo                                           \n",
       "random-first   exchange   exchange     insert  \n",
       "random-best    exchange   exchange     insert  \n",
       "srz-first        insert   exchange     insert  \n",
       "srz-best       exchange   exchange     insert  "
      ]
     },
     "execution_count": 72,
     "metadata": {},
     "output_type": "execute_result"
    }
   ],
   "source": [
    "compare_neigh = np.zeros((4,3))\n",
    "a, b, c = [], [], []\n",
    "r = list(itertools.product(['random', 'srz'], ['first', 'best']))\n",
    "for i, rest in enumerate(r):\n",
    "    algo1 = rest + (\"exchange\",)\n",
    "    algo2 = rest + (\"insert\",)\n",
    "    algo3 = rest + (\"transpose\",)\n",
    "    t, p = scipy.stats.ttest_rel(deviation_per_algo[algo1], deviation_per_algo[algo2])\n",
    "    compare_neigh[i][0]  = p\n",
    "    a.append(\"exchange\" if t < 0 else \"insert\")\n",
    "    t, p = scipy.stats.ttest_rel(deviation_per_algo[algo1], deviation_per_algo[algo3])\n",
    "    compare_neigh[i][1] = p\n",
    "    b.append(\"exchange\" if t < 0 else \"transpose\")\n",
    "    t, p = scipy.stats.ttest_rel(deviation_per_algo[algo2], deviation_per_algo[algo3])\n",
    "    compare_neigh[i][2] = p\n",
    "    c.append(\"insert\" if t < 0 else \"transpose\")\n",
    "\n",
    "compare_neigh = pd.DataFrame(compare_neigh < 0.05, columns=[\"exchange vs insert\", \"exchange vs transpose\", \"insert vs transpose\"])\n",
    "compare_neigh[\"algo\"] = list(map(lambda x: \"%s-%s\" % x, r))\n",
    "compare_neigh.set_index(\"algo\", inplace=True)\n",
    "compare_neigh[\"smaller ei\"] = a\n",
    "compare_neigh[\"smaller et\"] = b\n",
    "compare_neigh[\"smaller it\"] = c\n",
    "compare_neigh"
   ]
  },
  {
   "cell_type": "markdown",
   "metadata": {},
   "source": [
    "### Computation time"
   ]
  },
  {
   "cell_type": "code",
   "execution_count": 75,
   "metadata": {
    "collapsed": false
   },
   "outputs": [
    {
     "data": {
      "text/html": [
       "<div>\n",
       "<table border=\"1\" class=\"dataframe\">\n",
       "  <thead>\n",
       "    <tr style=\"text-align: right;\">\n",
       "      <th></th>\n",
       "      <th>exchange vs insert</th>\n",
       "      <th>exchange vs transpose</th>\n",
       "      <th>insert vs transpose</th>\n",
       "      <th>smaller ei</th>\n",
       "      <th>smaller et</th>\n",
       "      <th>smaller it</th>\n",
       "    </tr>\n",
       "    <tr>\n",
       "      <th>algo</th>\n",
       "      <th></th>\n",
       "      <th></th>\n",
       "      <th></th>\n",
       "      <th></th>\n",
       "      <th></th>\n",
       "      <th></th>\n",
       "    </tr>\n",
       "  </thead>\n",
       "  <tbody>\n",
       "    <tr>\n",
       "      <th>random-first</th>\n",
       "      <td>True</td>\n",
       "      <td>True</td>\n",
       "      <td>True</td>\n",
       "      <td>exchange</td>\n",
       "      <td>transpose</td>\n",
       "      <td>transpose</td>\n",
       "    </tr>\n",
       "    <tr>\n",
       "      <th>random-best</th>\n",
       "      <td>True</td>\n",
       "      <td>True</td>\n",
       "      <td>True</td>\n",
       "      <td>exchange</td>\n",
       "      <td>transpose</td>\n",
       "      <td>transpose</td>\n",
       "    </tr>\n",
       "    <tr>\n",
       "      <th>srz-first</th>\n",
       "      <td>False</td>\n",
       "      <td>True</td>\n",
       "      <td>True</td>\n",
       "      <td>exchange</td>\n",
       "      <td>transpose</td>\n",
       "      <td>transpose</td>\n",
       "    </tr>\n",
       "    <tr>\n",
       "      <th>srz-best</th>\n",
       "      <td>False</td>\n",
       "      <td>True</td>\n",
       "      <td>True</td>\n",
       "      <td>insert</td>\n",
       "      <td>transpose</td>\n",
       "      <td>transpose</td>\n",
       "    </tr>\n",
       "  </tbody>\n",
       "</table>\n",
       "</div>"
      ],
      "text/plain": [
       "             exchange vs insert exchange vs transpose insert vs transpose  \\\n",
       "algo                                                                        \n",
       "random-first               True                  True                True   \n",
       "random-best                True                  True                True   \n",
       "srz-first                 False                  True                True   \n",
       "srz-best                  False                  True                True   \n",
       "\n",
       "             smaller ei smaller et smaller it  \n",
       "algo                                           \n",
       "random-first   exchange  transpose  transpose  \n",
       "random-best    exchange  transpose  transpose  \n",
       "srz-first      exchange  transpose  transpose  \n",
       "srz-best         insert  transpose  transpose  "
      ]
     },
     "execution_count": 75,
     "metadata": {},
     "output_type": "execute_result"
    }
   ],
   "source": [
    "compare_neigh = np.zeros((4,3))\n",
    "a, b, c = [], [], []\n",
    "r = list(itertools.product(['random', 'srz'], ['first', 'best']))\n",
    "for i, rest in enumerate(r):\n",
    "    algo1 = rest + (\"exchange\",)\n",
    "    algo2 = rest + (\"insert\",)\n",
    "    algo3 = rest + (\"transpose\",)\n",
    "    t, p = scipy.stats.ttest_rel(time_per_algo[algo1], time_per_algo[algo2])\n",
    "    compare_neigh[i][0]  = p\n",
    "    a.append(\"exchange\" if t < 0 else \"insert\")\n",
    "    t, p = scipy.stats.ttest_rel(time_per_algo[algo1], time_per_algo[algo3])\n",
    "    compare_neigh[i][1] = p\n",
    "    b.append(\"exchange\" if t < 0 else \"transpose\")\n",
    "    t, p = scipy.stats.ttest_rel(time_per_algo[algo2], time_per_algo[algo3])\n",
    "    compare_neigh[i][2] = p\n",
    "    c.append(\"insert\" if t < 0 else \"transpose\")\n",
    "\n",
    "compare_neigh = pd.DataFrame(compare_neigh < 0.05, columns=[\"exchange vs insert\", \"exchange vs transpose\", \"insert vs transpose\"])\n",
    "compare_neigh[\"algo\"] = list(map(lambda x: \"%s-%s\" % x, r))\n",
    "compare_neigh.set_index(\"algo\", inplace=True)\n",
    "compare_neigh[\"smaller ei\"] = a\n",
    "compare_neigh[\"smaller et\"] = b\n",
    "compare_neigh[\"smaller it\"] = c\n",
    "compare_neigh"
   ]
  },
  {
   "cell_type": "markdown",
   "metadata": {
    "collapsed": true
   },
   "source": [
    "# Exercise 2\n",
    "\n",
    "We are now working on the VND part.\n",
    "\n",
    "We filter the invocations to keep only what we need for the first exercise and add a new column : the relative deviation"
   ]
  },
  {
   "cell_type": "code",
   "execution_count": 22,
   "metadata": {
    "collapsed": true
   },
   "outputs": [],
   "source": [
    "ex2 = merged[(merged.neighborhood == \"vnd-tei\") | (merged.neighborhood == \"vnd-tie\")]"
   ]
  },
  {
   "cell_type": "code",
   "execution_count": 23,
   "metadata": {
    "collapsed": false,
    "scrolled": true
   },
   "outputs": [
    {
     "name": "stderr",
     "output_type": "stream",
     "text": [
      "/usr/lib/python3.5/site-packages/ipykernel/__main__.py:1: SettingWithCopyWarning: \n",
      "A value is trying to be set on a copy of a slice from a DataFrame.\n",
      "Try using .loc[row_indexer,col_indexer] = value instead\n",
      "\n",
      "See the caveats in the documentation: http://pandas.pydata.org/pandas-docs/stable/indexing.html#indexing-view-versus-copy\n",
      "  if __name__ == '__main__':\n"
     ]
    }
   ],
   "source": [
    "ex2['rel_deviation'] = 100 * (ex2['score'] - ex2['best_solution']) / ex2['best_solution']"
   ]
  },
  {
   "cell_type": "markdown",
   "metadata": {
    "collapsed": true
   },
   "source": [
    "## Mean of the relative deviation for each neighborhood"
   ]
  },
  {
   "cell_type": "code",
   "execution_count": 79,
   "metadata": {
    "collapsed": false,
    "scrolled": true
   },
   "outputs": [
    {
     "data": {
      "text/html": [
       "<div>\n",
       "<table border=\"1\" class=\"dataframe\">\n",
       "  <thead>\n",
       "    <tr style=\"text-align: right;\">\n",
       "      <th></th>\n",
       "      <th>rel_deviation</th>\n",
       "    </tr>\n",
       "    <tr>\n",
       "      <th>neighborhood</th>\n",
       "      <th></th>\n",
       "    </tr>\n",
       "  </thead>\n",
       "  <tbody>\n",
       "    <tr>\n",
       "      <th>vnd-tei</th>\n",
       "      <td>2.550408</td>\n",
       "    </tr>\n",
       "    <tr>\n",
       "      <th>vnd-tie</th>\n",
       "      <td>2.745331</td>\n",
       "    </tr>\n",
       "  </tbody>\n",
       "</table>\n",
       "</div>"
      ],
      "text/plain": [
       "              rel_deviation\n",
       "neighborhood               \n",
       "vnd-tei            2.550408\n",
       "vnd-tie            2.745331"
      ]
     },
     "execution_count": 79,
     "metadata": {},
     "output_type": "execute_result"
    }
   ],
   "source": [
    "ex2.groupby([\"neighborhood\"]).mean()[[\"rel_deviation\"]]"
   ]
  },
  {
   "cell_type": "markdown",
   "metadata": {
    "collapsed": true
   },
   "source": [
    "## Mean of the computation time for each neighborhood"
   ]
  },
  {
   "cell_type": "code",
   "execution_count": 78,
   "metadata": {
    "collapsed": false,
    "scrolled": true
   },
   "outputs": [
    {
     "data": {
      "text/html": [
       "<div>\n",
       "<table border=\"1\" class=\"dataframe\">\n",
       "  <thead>\n",
       "    <tr style=\"text-align: right;\">\n",
       "      <th></th>\n",
       "      <th></th>\n",
       "      <th>time</th>\n",
       "    </tr>\n",
       "    <tr>\n",
       "      <th>neighborhood</th>\n",
       "      <th>n_jobs</th>\n",
       "      <th></th>\n",
       "    </tr>\n",
       "  </thead>\n",
       "  <tbody>\n",
       "    <tr>\n",
       "      <th rowspan=\"2\" valign=\"top\">vnd-tei</th>\n",
       "      <th>50</th>\n",
       "      <td>0.073599</td>\n",
       "    </tr>\n",
       "    <tr>\n",
       "      <th>100</th>\n",
       "      <td>1.154808</td>\n",
       "    </tr>\n",
       "    <tr>\n",
       "      <th rowspan=\"2\" valign=\"top\">vnd-tie</th>\n",
       "      <th>50</th>\n",
       "      <td>0.064993</td>\n",
       "    </tr>\n",
       "    <tr>\n",
       "      <th>100</th>\n",
       "      <td>0.728432</td>\n",
       "    </tr>\n",
       "  </tbody>\n",
       "</table>\n",
       "</div>"
      ],
      "text/plain": [
       "                         time\n",
       "neighborhood n_jobs          \n",
       "vnd-tei      50      0.073599\n",
       "             100     1.154808\n",
       "vnd-tie      50      0.064993\n",
       "             100     0.728432"
      ]
     },
     "execution_count": 78,
     "metadata": {},
     "output_type": "execute_result"
    }
   ],
   "source": [
    "ex2.groupby([\"neighborhood\", \"n_jobs\"]).mean()[[\"time\"]]"
   ]
  },
  {
   "cell_type": "markdown",
   "metadata": {
    "collapsed": true
   },
   "source": [
    "## Percentage of improvement against the single neighborhoods"
   ]
  },
  {
   "cell_type": "code",
   "execution_count": 106,
   "metadata": {
    "collapsed": false
   },
   "outputs": [
    {
     "data": {
      "text/html": [
       "<div>\n",
       "<table border=\"1\" class=\"dataframe\">\n",
       "  <thead>\n",
       "    <tr style=\"text-align: right;\">\n",
       "      <th>neighborhood</th>\n",
       "      <th>vnd-tei</th>\n",
       "      <th>vnd-tie</th>\n",
       "    </tr>\n",
       "  </thead>\n",
       "  <tbody>\n",
       "    <tr>\n",
       "      <th>rel_deviation</th>\n",
       "      <td>2.550408</td>\n",
       "      <td>2.745331</td>\n",
       "    </tr>\n",
       "  </tbody>\n",
       "</table>\n",
       "</div>"
      ],
      "text/plain": [
       "neighborhood    vnd-tei   vnd-tie\n",
       "rel_deviation  2.550408  2.745331"
      ]
     },
     "execution_count": 106,
     "metadata": {},
     "output_type": "execute_result"
    }
   ],
   "source": [
    "ex2.groupby([\"neighborhood\"]).mean()[[\"rel_deviation\"]].T"
   ]
  },
  {
   "cell_type": "code",
   "execution_count": 107,
   "metadata": {
    "collapsed": false
   },
   "outputs": [
    {
     "data": {
      "text/html": [
       "<div>\n",
       "<table border=\"1\" class=\"dataframe\">\n",
       "  <thead>\n",
       "    <tr style=\"text-align: right;\">\n",
       "      <th>neighborhood</th>\n",
       "      <th>exchange</th>\n",
       "      <th>insert</th>\n",
       "    </tr>\n",
       "  </thead>\n",
       "  <tbody>\n",
       "    <tr>\n",
       "      <th>rel_deviation</th>\n",
       "      <td>3.116285</td>\n",
       "      <td>5.657385</td>\n",
       "    </tr>\n",
       "  </tbody>\n",
       "</table>\n",
       "</div>"
      ],
      "text/plain": [
       "neighborhood   exchange    insert\n",
       "rel_deviation  3.116285  5.657385"
      ]
     },
     "execution_count": 107,
     "metadata": {},
     "output_type": "execute_result"
    }
   ],
   "source": [
    "ex1.groupby([\"neighborhood\"]).mean()[[\"rel_deviation\"]].T[[\"exchange\", \"insert\"]]"
   ]
  },
  {
   "cell_type": "code",
   "execution_count": 114,
   "metadata": {
    "collapsed": false
   },
   "outputs": [
    {
     "name": "stdout",
     "output_type": "stream",
     "text": [
      "tei vs exchange: 1.221877\n",
      "tei vs insert: 2.218227\n",
      "tie vs exchange: 1.135122\n",
      "tie vs insert: 2.060730\n"
     ]
    }
   ],
   "source": [
    "print(\"tei vs exchange: %f\" % (3.116285/2.550408))\n",
    "print(\"tei vs insert: %f\" % (5.657385/2.550408))\n",
    "\n",
    "print(\"tie vs exchange: %f\" % (3.116285/2.745331))\n",
    "print(\"tie vs insert: %f\" % (5.657385/2.745331))"
   ]
  },
  {
   "cell_type": "markdown",
   "metadata": {
    "collapsed": true
   },
   "source": [
    "## T-test to compare the scores of both VND"
   ]
  },
  {
   "cell_type": "code",
   "execution_count": 115,
   "metadata": {
    "collapsed": false
   },
   "outputs": [],
   "source": [
    "deviation_per_algo = {}\n",
    "for keys, rows in ex2.groupby([\"init\", \"pivot\", \"neighborhood\"]):\n",
    "    deviation_per_algo[keys] = rows.rel_deviation.as_matrix()"
   ]
  },
  {
   "cell_type": "code",
   "execution_count": 118,
   "metadata": {
    "collapsed": false
   },
   "outputs": [],
   "source": [
    "t, p = scipy.stats.ttest_rel(deviation_per_algo[('srz', 'first', 'vnd-tie')], deviation_per_algo[('srz', 'first', 'vnd-tei')])"
   ]
  },
  {
   "cell_type": "code",
   "execution_count": 119,
   "metadata": {
    "collapsed": false
   },
   "outputs": [
    {
     "name": "stdout",
     "output_type": "stream",
     "text": [
      "0.0350352305722 True\n"
     ]
    }
   ],
   "source": [
    "print(p, p < 0.05)"
   ]
  },
  {
   "cell_type": "markdown",
   "metadata": {},
   "source": [
    "t is positive, \"transpose, exchange, insert\" is preferable"
   ]
  },
  {
   "cell_type": "code",
   "execution_count": 120,
   "metadata": {
    "collapsed": false
   },
   "outputs": [
    {
     "data": {
      "text/plain": [
       "2.1576809268739678"
      ]
     },
     "execution_count": 120,
     "metadata": {},
     "output_type": "execute_result"
    }
   ],
   "source": [
    "t"
   ]
  }
 ],
 "metadata": {
  "kernelspec": {
   "display_name": "Python 3",
   "language": "python",
   "name": "python3"
  },
  "language_info": {
   "codemirror_mode": {
    "name": "ipython",
    "version": 3
   },
   "file_extension": ".py",
   "mimetype": "text/x-python",
   "name": "python",
   "nbconvert_exporter": "python",
   "pygments_lexer": "ipython3",
   "version": "3.5.3"
  }
 },
 "nbformat": 4,
 "nbformat_minor": 1
}
