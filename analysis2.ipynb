{
 "cells": [
  {
   "cell_type": "code",
   "execution_count": 1,
   "metadata": {
    "collapsed": false
   },
   "outputs": [
    {
     "name": "stdout",
     "output_type": "stream",
     "text": [
      "Populating the interactive namespace from numpy and matplotlib\n"
     ]
    }
   ],
   "source": [
    "%pylab inline\n",
    "import pandas as pd\n",
    "import json\n",
    "import scipy.stats"
   ]
  },
  {
   "cell_type": "code",
   "execution_count": 2,
   "metadata": {
    "collapsed": false
   },
   "outputs": [],
   "source": [
    "raw = list(map(lambda x: json.loads(x), open(\"ex1.data\").read().strip().split(\"\\n\")))"
   ]
  },
  {
   "cell_type": "code",
   "execution_count": 3,
   "metadata": {
    "collapsed": false
   },
   "outputs": [
    {
     "data": {
      "text/html": [
       "<div>\n",
       "<table border=\"1\" class=\"dataframe\">\n",
       "  <thead>\n",
       "    <tr style=\"text-align: right;\">\n",
       "      <th></th>\n",
       "      <th>algo</th>\n",
       "      <th>initial</th>\n",
       "      <th>instance</th>\n",
       "      <th>score</th>\n",
       "      <th>timeout</th>\n",
       "      <th>times</th>\n",
       "      <th>instance_size</th>\n",
       "    </tr>\n",
       "  </thead>\n",
       "  <tbody>\n",
       "    <tr>\n",
       "      <th>0</th>\n",
       "      <td>ils</td>\n",
       "      <td>606197</td>\n",
       "      <td>50_20_03</td>\n",
       "      <td>594139</td>\n",
       "      <td>70</td>\n",
       "      <td>[[0.14641, 603286], [0.321501, 598693], [0.367...</td>\n",
       "      <td>50</td>\n",
       "    </tr>\n",
       "    <tr>\n",
       "      <th>1</th>\n",
       "      <td>ils</td>\n",
       "      <td>675359</td>\n",
       "      <td>50_20_04</td>\n",
       "      <td>669420</td>\n",
       "      <td>70</td>\n",
       "      <td>[[1.52274, 673871], [3.12878, 673712], [4.8855...</td>\n",
       "      <td>50</td>\n",
       "    </tr>\n",
       "    <tr>\n",
       "      <th>2</th>\n",
       "      <td>ils</td>\n",
       "      <td>658366</td>\n",
       "      <td>50_20_06</td>\n",
       "      <td>645158</td>\n",
       "      <td>70</td>\n",
       "      <td>[[0.091411, 655477], [0.312319, 648338], [0.35...</td>\n",
       "      <td>50</td>\n",
       "    </tr>\n",
       "    <tr>\n",
       "      <th>3</th>\n",
       "      <td>ils</td>\n",
       "      <td>633371</td>\n",
       "      <td>50_20_02</td>\n",
       "      <td>627098</td>\n",
       "      <td>70</td>\n",
       "      <td>[[0.181974, 630892], [0.376224, 629672], [0.56...</td>\n",
       "      <td>50</td>\n",
       "    </tr>\n",
       "    <tr>\n",
       "      <th>4</th>\n",
       "      <td>ils</td>\n",
       "      <td>609080</td>\n",
       "      <td>50_20_10</td>\n",
       "      <td>601898</td>\n",
       "      <td>70</td>\n",
       "      <td>[[0.395709, 607270], [0.50609, 606770], [1.276...</td>\n",
       "      <td>50</td>\n",
       "    </tr>\n",
       "  </tbody>\n",
       "</table>\n",
       "</div>"
      ],
      "text/plain": [
       "  algo initial  instance   score  timeout  \\\n",
       "0  ils  606197  50_20_03  594139       70   \n",
       "1  ils  675359  50_20_04  669420       70   \n",
       "2  ils  658366  50_20_06  645158       70   \n",
       "3  ils  633371  50_20_02  627098       70   \n",
       "4  ils  609080  50_20_10  601898       70   \n",
       "\n",
       "                                               times instance_size  \n",
       "0  [[0.14641, 603286], [0.321501, 598693], [0.367...            50  \n",
       "1  [[1.52274, 673871], [3.12878, 673712], [4.8855...            50  \n",
       "2  [[0.091411, 655477], [0.312319, 648338], [0.35...            50  \n",
       "3  [[0.181974, 630892], [0.376224, 629672], [0.56...            50  \n",
       "4  [[0.395709, 607270], [0.50609, 606770], [1.276...            50  "
      ]
     },
     "execution_count": 3,
     "metadata": {},
     "output_type": "execute_result"
    }
   ],
   "source": [
    "exp1 = pd.DataFrame(raw)\n",
    "exp1[\"instance\"] = exp1[\"instance\"].apply(lambda x: x.split(\"/\")[1].strip())\n",
    "exp1[\"instance_size\"] = exp1[\"instance\"].apply(lambda x: x.split(\"_\")[0])\n",
    "exp1[\"score\"] = exp1[\"score\"].apply(lambda x: int(x))\n",
    "#exp1 = exp1.set_index(\"instance\")\n",
    "exp1.head()"
   ]
  },
  {
   "cell_type": "code",
   "execution_count": 4,
   "metadata": {
    "collapsed": false
   },
   "outputs": [
    {
     "data": {
      "text/html": [
       "<div>\n",
       "<table border=\"1\" class=\"dataframe\">\n",
       "  <thead>\n",
       "    <tr style=\"text-align: right;\">\n",
       "      <th></th>\n",
       "      <th>instance</th>\n",
       "      <th>best_solution</th>\n",
       "    </tr>\n",
       "  </thead>\n",
       "  <tbody>\n",
       "    <tr>\n",
       "      <th>0</th>\n",
       "      <td>100_20_01</td>\n",
       "      <td>1792110.0</td>\n",
       "    </tr>\n",
       "    <tr>\n",
       "      <th>1</th>\n",
       "      <td>100_20_02</td>\n",
       "      <td>1810660.0</td>\n",
       "    </tr>\n",
       "    <tr>\n",
       "      <th>2</th>\n",
       "      <td>100_20_03</td>\n",
       "      <td>1679880.0</td>\n",
       "    </tr>\n",
       "    <tr>\n",
       "      <th>3</th>\n",
       "      <td>100_20_04</td>\n",
       "      <td>1943480.0</td>\n",
       "    </tr>\n",
       "    <tr>\n",
       "      <th>4</th>\n",
       "      <td>100_20_05</td>\n",
       "      <td>1539090.0</td>\n",
       "    </tr>\n",
       "    <tr>\n",
       "      <th>5</th>\n",
       "      <td>100_20_06</td>\n",
       "      <td>1660530.0</td>\n",
       "    </tr>\n",
       "    <tr>\n",
       "      <th>6</th>\n",
       "      <td>100_20_07</td>\n",
       "      <td>1783580.0</td>\n",
       "    </tr>\n",
       "    <tr>\n",
       "      <th>7</th>\n",
       "      <td>100_20_08</td>\n",
       "      <td>1754470.0</td>\n",
       "    </tr>\n",
       "    <tr>\n",
       "      <th>8</th>\n",
       "      <td>100_20_09</td>\n",
       "      <td>1852180.0</td>\n",
       "    </tr>\n",
       "    <tr>\n",
       "      <th>9</th>\n",
       "      <td>100_20_10</td>\n",
       "      <td>1660070.0</td>\n",
       "    </tr>\n",
       "  </tbody>\n",
       "</table>\n",
       "</div>"
      ],
      "text/plain": [
       "    instance  best_solution\n",
       "0  100_20_01      1792110.0\n",
       "1  100_20_02      1810660.0\n",
       "2  100_20_03      1679880.0\n",
       "3  100_20_04      1943480.0\n",
       "4  100_20_05      1539090.0\n",
       "5  100_20_06      1660530.0\n",
       "6  100_20_07      1783580.0\n",
       "7  100_20_08      1754470.0\n",
       "8  100_20_09      1852180.0\n",
       "9  100_20_10      1660070.0"
      ]
     },
     "execution_count": 4,
     "metadata": {},
     "output_type": "execute_result"
    }
   ],
   "source": [
    "best = pd.read_csv(\"instances/bestSolutions.txt\")\n",
    "best.columns = [\"instance\", \"best_solution\"]\n",
    "best[\"instance\"] = best[\"instance\"].apply(lambda x: x.strip())\n",
    "#best = best.set_index(\"instance\")\n",
    "best.head(10)"
   ]
  },
  {
   "cell_type": "code",
   "execution_count": 5,
   "metadata": {
    "collapsed": false
   },
   "outputs": [
    {
     "data": {
      "text/html": [
       "<div>\n",
       "<table border=\"1\" class=\"dataframe\">\n",
       "  <thead>\n",
       "    <tr style=\"text-align: right;\">\n",
       "      <th></th>\n",
       "      <th>algo</th>\n",
       "      <th>initial</th>\n",
       "      <th>instance</th>\n",
       "      <th>score</th>\n",
       "      <th>timeout</th>\n",
       "      <th>times</th>\n",
       "      <th>instance_size</th>\n",
       "      <th>best_solution</th>\n",
       "    </tr>\n",
       "  </thead>\n",
       "  <tbody>\n",
       "    <tr>\n",
       "      <th>0</th>\n",
       "      <td>ils</td>\n",
       "      <td>606197</td>\n",
       "      <td>50_20_03</td>\n",
       "      <td>594139</td>\n",
       "      <td>70</td>\n",
       "      <td>[[0.14641, 603286], [0.321501, 598693], [0.367...</td>\n",
       "      <td>50</td>\n",
       "      <td>592745.0</td>\n",
       "    </tr>\n",
       "    <tr>\n",
       "      <th>1</th>\n",
       "      <td>ils</td>\n",
       "      <td>675359</td>\n",
       "      <td>50_20_04</td>\n",
       "      <td>669420</td>\n",
       "      <td>70</td>\n",
       "      <td>[[1.52274, 673871], [3.12878, 673712], [4.8855...</td>\n",
       "      <td>50</td>\n",
       "      <td>666621.0</td>\n",
       "    </tr>\n",
       "    <tr>\n",
       "      <th>2</th>\n",
       "      <td>ils</td>\n",
       "      <td>658366</td>\n",
       "      <td>50_20_06</td>\n",
       "      <td>645158</td>\n",
       "      <td>70</td>\n",
       "      <td>[[0.091411, 655477], [0.312319, 648338], [0.35...</td>\n",
       "      <td>50</td>\n",
       "      <td>643294.0</td>\n",
       "    </tr>\n",
       "    <tr>\n",
       "      <th>3</th>\n",
       "      <td>ils</td>\n",
       "      <td>633371</td>\n",
       "      <td>50_20_02</td>\n",
       "      <td>627098</td>\n",
       "      <td>70</td>\n",
       "      <td>[[0.181974, 630892], [0.376224, 629672], [0.56...</td>\n",
       "      <td>50</td>\n",
       "      <td>622342.0</td>\n",
       "    </tr>\n",
       "    <tr>\n",
       "      <th>4</th>\n",
       "      <td>ils</td>\n",
       "      <td>609080</td>\n",
       "      <td>50_20_10</td>\n",
       "      <td>601898</td>\n",
       "      <td>70</td>\n",
       "      <td>[[0.395709, 607270], [0.50609, 606770], [1.276...</td>\n",
       "      <td>50</td>\n",
       "      <td>600785.0</td>\n",
       "    </tr>\n",
       "    <tr>\n",
       "      <th>5</th>\n",
       "      <td>ils</td>\n",
       "      <td>615040</td>\n",
       "      <td>50_20_23</td>\n",
       "      <td>603081</td>\n",
       "      <td>70</td>\n",
       "      <td>[[0.405156, 612154], [0.539394, 611214], [0.95...</td>\n",
       "      <td>50</td>\n",
       "      <td>602536.0</td>\n",
       "    </tr>\n",
       "    <tr>\n",
       "      <th>6</th>\n",
       "      <td>ils</td>\n",
       "      <td>580507</td>\n",
       "      <td>50_20_20</td>\n",
       "      <td>565562</td>\n",
       "      <td>70</td>\n",
       "      <td>[[0.145562, 579552], [0.970769, 579544], [1.10...</td>\n",
       "      <td>50</td>\n",
       "      <td>565240.0</td>\n",
       "    </tr>\n",
       "    <tr>\n",
       "      <th>7</th>\n",
       "      <td>ils</td>\n",
       "      <td>673982</td>\n",
       "      <td>50_20_05</td>\n",
       "      <td>655529</td>\n",
       "      <td>70</td>\n",
       "      <td>[[0.096258, 670074], [0.304163, 668790], [0.49...</td>\n",
       "      <td>50</td>\n",
       "      <td>653748.0</td>\n",
       "    </tr>\n",
       "    <tr>\n",
       "      <th>8</th>\n",
       "      <td>ils</td>\n",
       "      <td>607585</td>\n",
       "      <td>50_20_26</td>\n",
       "      <td>603470</td>\n",
       "      <td>70</td>\n",
       "      <td>[[0.102728, 606617], [4.28372, 606552], [4.595...</td>\n",
       "      <td>50</td>\n",
       "      <td>600296.0</td>\n",
       "    </tr>\n",
       "    <tr>\n",
       "      <th>9</th>\n",
       "      <td>ils</td>\n",
       "      <td>583685</td>\n",
       "      <td>50_20_14</td>\n",
       "      <td>573747</td>\n",
       "      <td>70</td>\n",
       "      <td>[[0.054394, 583268], [0.501383, 583042], [0.64...</td>\n",
       "      <td>50</td>\n",
       "      <td>572954.0</td>\n",
       "    </tr>\n",
       "  </tbody>\n",
       "</table>\n",
       "</div>"
      ],
      "text/plain": [
       "  algo initial  instance   score  timeout  \\\n",
       "0  ils  606197  50_20_03  594139       70   \n",
       "1  ils  675359  50_20_04  669420       70   \n",
       "2  ils  658366  50_20_06  645158       70   \n",
       "3  ils  633371  50_20_02  627098       70   \n",
       "4  ils  609080  50_20_10  601898       70   \n",
       "5  ils  615040  50_20_23  603081       70   \n",
       "6  ils  580507  50_20_20  565562       70   \n",
       "7  ils  673982  50_20_05  655529       70   \n",
       "8  ils  607585  50_20_26  603470       70   \n",
       "9  ils  583685  50_20_14  573747       70   \n",
       "\n",
       "                                               times instance_size  \\\n",
       "0  [[0.14641, 603286], [0.321501, 598693], [0.367...            50   \n",
       "1  [[1.52274, 673871], [3.12878, 673712], [4.8855...            50   \n",
       "2  [[0.091411, 655477], [0.312319, 648338], [0.35...            50   \n",
       "3  [[0.181974, 630892], [0.376224, 629672], [0.56...            50   \n",
       "4  [[0.395709, 607270], [0.50609, 606770], [1.276...            50   \n",
       "5  [[0.405156, 612154], [0.539394, 611214], [0.95...            50   \n",
       "6  [[0.145562, 579552], [0.970769, 579544], [1.10...            50   \n",
       "7  [[0.096258, 670074], [0.304163, 668790], [0.49...            50   \n",
       "8  [[0.102728, 606617], [4.28372, 606552], [4.595...            50   \n",
       "9  [[0.054394, 583268], [0.501383, 583042], [0.64...            50   \n",
       "\n",
       "   best_solution  \n",
       "0       592745.0  \n",
       "1       666621.0  \n",
       "2       643294.0  \n",
       "3       622342.0  \n",
       "4       600785.0  \n",
       "5       602536.0  \n",
       "6       565240.0  \n",
       "7       653748.0  \n",
       "8       600296.0  \n",
       "9       572954.0  "
      ]
     },
     "execution_count": 5,
     "metadata": {},
     "output_type": "execute_result"
    }
   ],
   "source": [
    "e1 = pd.merge(exp1, best, on=\"instance\", how=\"left\")\n",
    "e1.head(10)"
   ]
  },
  {
   "cell_type": "code",
   "execution_count": 6,
   "metadata": {
    "collapsed": false
   },
   "outputs": [
    {
     "data": {
      "text/html": [
       "<div>\n",
       "<table border=\"1\" class=\"dataframe\">\n",
       "  <thead>\n",
       "    <tr style=\"text-align: right;\">\n",
       "      <th></th>\n",
       "      <th>algo</th>\n",
       "      <th>initial</th>\n",
       "      <th>instance</th>\n",
       "      <th>score</th>\n",
       "      <th>timeout</th>\n",
       "      <th>times</th>\n",
       "      <th>instance_size</th>\n",
       "      <th>best_solution</th>\n",
       "      <th>diff</th>\n",
       "    </tr>\n",
       "  </thead>\n",
       "  <tbody>\n",
       "    <tr>\n",
       "      <th>0</th>\n",
       "      <td>ils</td>\n",
       "      <td>606197</td>\n",
       "      <td>50_20_03</td>\n",
       "      <td>594139</td>\n",
       "      <td>70</td>\n",
       "      <td>[[0.14641, 603286], [0.321501, 598693], [0.367...</td>\n",
       "      <td>50</td>\n",
       "      <td>592745.0</td>\n",
       "      <td>0.002352</td>\n",
       "    </tr>\n",
       "    <tr>\n",
       "      <th>1</th>\n",
       "      <td>ils</td>\n",
       "      <td>675359</td>\n",
       "      <td>50_20_04</td>\n",
       "      <td>669420</td>\n",
       "      <td>70</td>\n",
       "      <td>[[1.52274, 673871], [3.12878, 673712], [4.8855...</td>\n",
       "      <td>50</td>\n",
       "      <td>666621.0</td>\n",
       "      <td>0.004199</td>\n",
       "    </tr>\n",
       "    <tr>\n",
       "      <th>2</th>\n",
       "      <td>ils</td>\n",
       "      <td>658366</td>\n",
       "      <td>50_20_06</td>\n",
       "      <td>645158</td>\n",
       "      <td>70</td>\n",
       "      <td>[[0.091411, 655477], [0.312319, 648338], [0.35...</td>\n",
       "      <td>50</td>\n",
       "      <td>643294.0</td>\n",
       "      <td>0.002898</td>\n",
       "    </tr>\n",
       "    <tr>\n",
       "      <th>3</th>\n",
       "      <td>ils</td>\n",
       "      <td>633371</td>\n",
       "      <td>50_20_02</td>\n",
       "      <td>627098</td>\n",
       "      <td>70</td>\n",
       "      <td>[[0.181974, 630892], [0.376224, 629672], [0.56...</td>\n",
       "      <td>50</td>\n",
       "      <td>622342.0</td>\n",
       "      <td>0.007642</td>\n",
       "    </tr>\n",
       "    <tr>\n",
       "      <th>4</th>\n",
       "      <td>ils</td>\n",
       "      <td>609080</td>\n",
       "      <td>50_20_10</td>\n",
       "      <td>601898</td>\n",
       "      <td>70</td>\n",
       "      <td>[[0.395709, 607270], [0.50609, 606770], [1.276...</td>\n",
       "      <td>50</td>\n",
       "      <td>600785.0</td>\n",
       "      <td>0.001853</td>\n",
       "    </tr>\n",
       "  </tbody>\n",
       "</table>\n",
       "</div>"
      ],
      "text/plain": [
       "  algo initial  instance   score  timeout  \\\n",
       "0  ils  606197  50_20_03  594139       70   \n",
       "1  ils  675359  50_20_04  669420       70   \n",
       "2  ils  658366  50_20_06  645158       70   \n",
       "3  ils  633371  50_20_02  627098       70   \n",
       "4  ils  609080  50_20_10  601898       70   \n",
       "\n",
       "                                               times instance_size  \\\n",
       "0  [[0.14641, 603286], [0.321501, 598693], [0.367...            50   \n",
       "1  [[1.52274, 673871], [3.12878, 673712], [4.8855...            50   \n",
       "2  [[0.091411, 655477], [0.312319, 648338], [0.35...            50   \n",
       "3  [[0.181974, 630892], [0.376224, 629672], [0.56...            50   \n",
       "4  [[0.395709, 607270], [0.50609, 606770], [1.276...            50   \n",
       "\n",
       "   best_solution      diff  \n",
       "0       592745.0  0.002352  \n",
       "1       666621.0  0.004199  \n",
       "2       643294.0  0.002898  \n",
       "3       622342.0  0.007642  \n",
       "4       600785.0  0.001853  "
      ]
     },
     "execution_count": 6,
     "metadata": {},
     "output_type": "execute_result"
    }
   ],
   "source": [
    "e1[\"diff\"] = (e1[\"score\"] - e1['best_solution']) / e1['best_solution']\n",
    "e1.head()"
   ]
  },
  {
   "cell_type": "code",
   "execution_count": 7,
   "metadata": {
    "collapsed": false
   },
   "outputs": [
    {
     "data": {
      "text/plain": [
       "(26, 9)"
      ]
     },
     "execution_count": 7,
     "metadata": {},
     "output_type": "execute_result"
    }
   ],
   "source": [
    "e1[e1['diff'] < 0].shape"
   ]
  },
  {
   "cell_type": "code",
   "execution_count": 8,
   "metadata": {
    "collapsed": false
   },
   "outputs": [
    {
     "data": {
      "text/plain": [
       "(11, 9)"
      ]
     },
     "execution_count": 8,
     "metadata": {},
     "output_type": "execute_result"
    }
   ],
   "source": [
    "e1[e1['diff'] > 0.02].shape"
   ]
  },
  {
   "cell_type": "code",
   "execution_count": 9,
   "metadata": {
    "collapsed": false
   },
   "outputs": [
    {
     "data": {
      "text/plain": [
       "(169, 9)"
      ]
     },
     "execution_count": 9,
     "metadata": {},
     "output_type": "execute_result"
    }
   ],
   "source": [
    "e1[e1['diff'] > 0.01].shape"
   ]
  },
  {
   "cell_type": "markdown",
   "metadata": {},
   "source": [
    "# Compute for each of the two SLS algorithms and each instance the average percentage deviation from the best known solutions."
   ]
  },
  {
   "cell_type": "code",
   "execution_count": 10,
   "metadata": {
    "collapsed": false,
    "scrolled": false
   },
   "outputs": [
    {
     "data": {
      "text/html": [
       "<div>\n",
       "<table border=\"1\" class=\"dataframe\">\n",
       "  <thead>\n",
       "    <tr style=\"text-align: right;\">\n",
       "      <th></th>\n",
       "      <th></th>\n",
       "      <th>diff</th>\n",
       "    </tr>\n",
       "    <tr>\n",
       "      <th>algo</th>\n",
       "      <th>instance</th>\n",
       "      <th></th>\n",
       "    </tr>\n",
       "  </thead>\n",
       "  <tbody>\n",
       "    <tr>\n",
       "      <th rowspan=\"30\" valign=\"top\">genetic</th>\n",
       "      <th>100_20_01</th>\n",
       "      <td>0.011222</td>\n",
       "    </tr>\n",
       "    <tr>\n",
       "      <th>100_20_02</th>\n",
       "      <td>0.013086</td>\n",
       "    </tr>\n",
       "    <tr>\n",
       "      <th>100_20_03</th>\n",
       "      <td>0.012037</td>\n",
       "    </tr>\n",
       "    <tr>\n",
       "      <th>100_20_04</th>\n",
       "      <td>0.015829</td>\n",
       "    </tr>\n",
       "    <tr>\n",
       "      <th>100_20_05</th>\n",
       "      <td>0.015102</td>\n",
       "    </tr>\n",
       "    <tr>\n",
       "      <th>100_20_06</th>\n",
       "      <td>0.015239</td>\n",
       "    </tr>\n",
       "    <tr>\n",
       "      <th>100_20_07</th>\n",
       "      <td>0.007012</td>\n",
       "    </tr>\n",
       "    <tr>\n",
       "      <th>100_20_08</th>\n",
       "      <td>0.016875</td>\n",
       "    </tr>\n",
       "    <tr>\n",
       "      <th>100_20_09</th>\n",
       "      <td>0.008357</td>\n",
       "    </tr>\n",
       "    <tr>\n",
       "      <th>100_20_10</th>\n",
       "      <td>0.015352</td>\n",
       "    </tr>\n",
       "    <tr>\n",
       "      <th>100_20_11</th>\n",
       "      <td>0.011619</td>\n",
       "    </tr>\n",
       "    <tr>\n",
       "      <th>100_20_12</th>\n",
       "      <td>0.008405</td>\n",
       "    </tr>\n",
       "    <tr>\n",
       "      <th>100_20_13</th>\n",
       "      <td>0.013429</td>\n",
       "    </tr>\n",
       "    <tr>\n",
       "      <th>100_20_14</th>\n",
       "      <td>0.013778</td>\n",
       "    </tr>\n",
       "    <tr>\n",
       "      <th>100_20_15</th>\n",
       "      <td>0.013254</td>\n",
       "    </tr>\n",
       "    <tr>\n",
       "      <th>100_20_16</th>\n",
       "      <td>0.016050</td>\n",
       "    </tr>\n",
       "    <tr>\n",
       "      <th>100_20_17</th>\n",
       "      <td>0.013752</td>\n",
       "    </tr>\n",
       "    <tr>\n",
       "      <th>100_20_18</th>\n",
       "      <td>0.009085</td>\n",
       "    </tr>\n",
       "    <tr>\n",
       "      <th>100_20_19</th>\n",
       "      <td>0.017614</td>\n",
       "    </tr>\n",
       "    <tr>\n",
       "      <th>100_20_20</th>\n",
       "      <td>0.009581</td>\n",
       "    </tr>\n",
       "    <tr>\n",
       "      <th>100_20_21</th>\n",
       "      <td>0.014523</td>\n",
       "    </tr>\n",
       "    <tr>\n",
       "      <th>100_20_22</th>\n",
       "      <td>0.012543</td>\n",
       "    </tr>\n",
       "    <tr>\n",
       "      <th>100_20_23</th>\n",
       "      <td>0.020135</td>\n",
       "    </tr>\n",
       "    <tr>\n",
       "      <th>100_20_24</th>\n",
       "      <td>0.011917</td>\n",
       "    </tr>\n",
       "    <tr>\n",
       "      <th>100_20_25</th>\n",
       "      <td>0.011632</td>\n",
       "    </tr>\n",
       "    <tr>\n",
       "      <th>100_20_26</th>\n",
       "      <td>0.014281</td>\n",
       "    </tr>\n",
       "    <tr>\n",
       "      <th>100_20_27</th>\n",
       "      <td>0.016956</td>\n",
       "    </tr>\n",
       "    <tr>\n",
       "      <th>100_20_28</th>\n",
       "      <td>0.014868</td>\n",
       "    </tr>\n",
       "    <tr>\n",
       "      <th>100_20_29</th>\n",
       "      <td>0.016380</td>\n",
       "    </tr>\n",
       "    <tr>\n",
       "      <th>100_20_30</th>\n",
       "      <td>0.015408</td>\n",
       "    </tr>\n",
       "    <tr>\n",
       "      <th>...</th>\n",
       "      <th>...</th>\n",
       "      <td>...</td>\n",
       "    </tr>\n",
       "    <tr>\n",
       "      <th rowspan=\"30\" valign=\"top\">ils</th>\n",
       "      <th>50_20_01</th>\n",
       "      <td>0.002921</td>\n",
       "    </tr>\n",
       "    <tr>\n",
       "      <th>50_20_02</th>\n",
       "      <td>0.002746</td>\n",
       "    </tr>\n",
       "    <tr>\n",
       "      <th>50_20_03</th>\n",
       "      <td>0.001063</td>\n",
       "    </tr>\n",
       "    <tr>\n",
       "      <th>50_20_04</th>\n",
       "      <td>0.003524</td>\n",
       "    </tr>\n",
       "    <tr>\n",
       "      <th>50_20_05</th>\n",
       "      <td>0.002415</td>\n",
       "    </tr>\n",
       "    <tr>\n",
       "      <th>50_20_06</th>\n",
       "      <td>0.000513</td>\n",
       "    </tr>\n",
       "    <tr>\n",
       "      <th>50_20_07</th>\n",
       "      <td>0.000766</td>\n",
       "    </tr>\n",
       "    <tr>\n",
       "      <th>50_20_08</th>\n",
       "      <td>0.001110</td>\n",
       "    </tr>\n",
       "    <tr>\n",
       "      <th>50_20_09</th>\n",
       "      <td>-0.000650</td>\n",
       "    </tr>\n",
       "    <tr>\n",
       "      <th>50_20_10</th>\n",
       "      <td>0.001714</td>\n",
       "    </tr>\n",
       "    <tr>\n",
       "      <th>50_20_11</th>\n",
       "      <td>0.002200</td>\n",
       "    </tr>\n",
       "    <tr>\n",
       "      <th>50_20_12</th>\n",
       "      <td>0.001468</td>\n",
       "    </tr>\n",
       "    <tr>\n",
       "      <th>50_20_13</th>\n",
       "      <td>0.002723</td>\n",
       "    </tr>\n",
       "    <tr>\n",
       "      <th>50_20_14</th>\n",
       "      <td>0.003781</td>\n",
       "    </tr>\n",
       "    <tr>\n",
       "      <th>50_20_15</th>\n",
       "      <td>0.003113</td>\n",
       "    </tr>\n",
       "    <tr>\n",
       "      <th>50_20_16</th>\n",
       "      <td>0.001119</td>\n",
       "    </tr>\n",
       "    <tr>\n",
       "      <th>50_20_17</th>\n",
       "      <td>0.001342</td>\n",
       "    </tr>\n",
       "    <tr>\n",
       "      <th>50_20_18</th>\n",
       "      <td>0.003437</td>\n",
       "    </tr>\n",
       "    <tr>\n",
       "      <th>50_20_19</th>\n",
       "      <td>0.001237</td>\n",
       "    </tr>\n",
       "    <tr>\n",
       "      <th>50_20_20</th>\n",
       "      <td>0.002840</td>\n",
       "    </tr>\n",
       "    <tr>\n",
       "      <th>50_20_21</th>\n",
       "      <td>0.003126</td>\n",
       "    </tr>\n",
       "    <tr>\n",
       "      <th>50_20_22</th>\n",
       "      <td>0.001409</td>\n",
       "    </tr>\n",
       "    <tr>\n",
       "      <th>50_20_23</th>\n",
       "      <td>0.002277</td>\n",
       "    </tr>\n",
       "    <tr>\n",
       "      <th>50_20_24</th>\n",
       "      <td>0.003062</td>\n",
       "    </tr>\n",
       "    <tr>\n",
       "      <th>50_20_25</th>\n",
       "      <td>0.003134</td>\n",
       "    </tr>\n",
       "    <tr>\n",
       "      <th>50_20_26</th>\n",
       "      <td>0.003455</td>\n",
       "    </tr>\n",
       "    <tr>\n",
       "      <th>50_20_27</th>\n",
       "      <td>0.001005</td>\n",
       "    </tr>\n",
       "    <tr>\n",
       "      <th>50_20_28</th>\n",
       "      <td>0.003048</td>\n",
       "    </tr>\n",
       "    <tr>\n",
       "      <th>50_20_29</th>\n",
       "      <td>0.000966</td>\n",
       "    </tr>\n",
       "    <tr>\n",
       "      <th>50_20_30</th>\n",
       "      <td>0.002012</td>\n",
       "    </tr>\n",
       "  </tbody>\n",
       "</table>\n",
       "<p>120 rows × 1 columns</p>\n",
       "</div>"
      ],
      "text/plain": [
       "                       diff\n",
       "algo    instance           \n",
       "genetic 100_20_01  0.011222\n",
       "        100_20_02  0.013086\n",
       "        100_20_03  0.012037\n",
       "        100_20_04  0.015829\n",
       "        100_20_05  0.015102\n",
       "        100_20_06  0.015239\n",
       "        100_20_07  0.007012\n",
       "        100_20_08  0.016875\n",
       "        100_20_09  0.008357\n",
       "        100_20_10  0.015352\n",
       "        100_20_11  0.011619\n",
       "        100_20_12  0.008405\n",
       "        100_20_13  0.013429\n",
       "        100_20_14  0.013778\n",
       "        100_20_15  0.013254\n",
       "        100_20_16  0.016050\n",
       "        100_20_17  0.013752\n",
       "        100_20_18  0.009085\n",
       "        100_20_19  0.017614\n",
       "        100_20_20  0.009581\n",
       "        100_20_21  0.014523\n",
       "        100_20_22  0.012543\n",
       "        100_20_23  0.020135\n",
       "        100_20_24  0.011917\n",
       "        100_20_25  0.011632\n",
       "        100_20_26  0.014281\n",
       "        100_20_27  0.016956\n",
       "        100_20_28  0.014868\n",
       "        100_20_29  0.016380\n",
       "        100_20_30  0.015408\n",
       "...                     ...\n",
       "ils     50_20_01   0.002921\n",
       "        50_20_02   0.002746\n",
       "        50_20_03   0.001063\n",
       "        50_20_04   0.003524\n",
       "        50_20_05   0.002415\n",
       "        50_20_06   0.000513\n",
       "        50_20_07   0.000766\n",
       "        50_20_08   0.001110\n",
       "        50_20_09  -0.000650\n",
       "        50_20_10   0.001714\n",
       "        50_20_11   0.002200\n",
       "        50_20_12   0.001468\n",
       "        50_20_13   0.002723\n",
       "        50_20_14   0.003781\n",
       "        50_20_15   0.003113\n",
       "        50_20_16   0.001119\n",
       "        50_20_17   0.001342\n",
       "        50_20_18   0.003437\n",
       "        50_20_19   0.001237\n",
       "        50_20_20   0.002840\n",
       "        50_20_21   0.003126\n",
       "        50_20_22   0.001409\n",
       "        50_20_23   0.002277\n",
       "        50_20_24   0.003062\n",
       "        50_20_25   0.003134\n",
       "        50_20_26   0.003455\n",
       "        50_20_27   0.001005\n",
       "        50_20_28   0.003048\n",
       "        50_20_29   0.000966\n",
       "        50_20_30   0.002012\n",
       "\n",
       "[120 rows x 1 columns]"
      ]
     },
     "execution_count": 10,
     "metadata": {},
     "output_type": "execute_result"
    }
   ],
   "source": [
    "e1.groupby([\"algo\", \"instance\"]).mean()[[\"diff\"]]"
   ]
  },
  {
   "cell_type": "code",
   "execution_count": 29,
   "metadata": {
    "collapsed": false
   },
   "outputs": [
    {
     "data": {
      "image/png": "[encoded data removed]",
      "text/plain": [
       "<matplotlib.figure.Figure at 0x7ff254a885f8>"
      ]
     },
     "metadata": {},
     "output_type": "display_data"
    }
   ],
   "source": [
    "fig = plt.figure(figsize=(20,3))\n",
    "heatmap = plt.imshow(\n",
    "    e1.groupby([\"algo\", \"instance\"]).mean()[[\"diff\"]].unstack().values,\n",
    "    interpolation='nearest',\n",
    "    cmap=\"viridis\",\n",
    ")\n",
    "plt.xticks(range(60), e1.groupby([\"algo\", \"instance\"]).mean().reset_index().instance.values, rotation=90)\n",
    "plt.yticks(range(2), e1.groupby([\"algo\", \"instance\"]).mean().reset_index().algo.unique())\n",
    "plt.xlabel(\"Instance\")\n",
    "plt.ylabel(\"Algorithm\")\n",
    "plt.title(\"Heatmap of the average percentage deviation fo each instance and algorithm\")\n",
    "\n",
    "plt.colorbar(heatmap, orientation=\"horizontal\", pad=0.5);\n"
   ]
  },
  {
   "cell_type": "markdown",
   "metadata": {},
   "source": [
    "# For each instance size, also compute the average percentage deviation across all instances."
   ]
  },
  {
   "cell_type": "code",
   "execution_count": 12,
   "metadata": {
    "collapsed": false
   },
   "outputs": [
    {
     "data": {
      "text/html": [
       "<div>\n",
       "<table border=\"1\" class=\"dataframe\">\n",
       "  <thead>\n",
       "    <tr style=\"text-align: right;\">\n",
       "      <th></th>\n",
       "      <th></th>\n",
       "      <th>diff</th>\n",
       "    </tr>\n",
       "    <tr>\n",
       "      <th>algo</th>\n",
       "      <th>instance_size</th>\n",
       "      <th></th>\n",
       "    </tr>\n",
       "  </thead>\n",
       "  <tbody>\n",
       "    <tr>\n",
       "      <th rowspan=\"2\" valign=\"top\">genetic</th>\n",
       "      <th>100</th>\n",
       "      <td>0.013511</td>\n",
       "    </tr>\n",
       "    <tr>\n",
       "      <th>50</th>\n",
       "      <td>0.004279</td>\n",
       "    </tr>\n",
       "    <tr>\n",
       "      <th rowspan=\"2\" valign=\"top\">ils</th>\n",
       "      <th>100</th>\n",
       "      <td>0.007042</td>\n",
       "    </tr>\n",
       "    <tr>\n",
       "      <th>50</th>\n",
       "      <td>0.002096</td>\n",
       "    </tr>\n",
       "  </tbody>\n",
       "</table>\n",
       "</div>"
      ],
      "text/plain": [
       "                           diff\n",
       "algo    instance_size          \n",
       "genetic 100            0.013511\n",
       "        50             0.004279\n",
       "ils     100            0.007042\n",
       "        50             0.002096"
      ]
     },
     "execution_count": 12,
     "metadata": {},
     "output_type": "execute_result"
    }
   ],
   "source": [
    "e1.groupby([\"algo\", \"instance_size\"]).mean()[[\"diff\"]]"
   ]
  },
  {
   "cell_type": "markdown",
   "metadata": {},
   "source": [
    "# Produce correlation plots of the average relative percentage deviation for the two SLS algorithms (see lectures), separating between the instance sizes (either two separate plots or clearly marking differences in one plot)."
   ]
  },
  {
   "cell_type": "code",
   "execution_count": 13,
   "metadata": {
    "collapsed": false
   },
   "outputs": [],
   "source": [
    "df = e1.groupby([\"algo\", \"instance\"]).mean()[[\"diff\"]].reset_index()\n",
    "corr = pd.merge(\n",
    "    df[df.algo == \"ils\"][[\"instance\", \"diff\"]],\n",
    "    df[df.algo == \"genetic\"][[\"instance\", \"diff\"]],\n",
    "    on=\"instance\",\n",
    "    suffixes=(\"_ils\", \"_genetic\")\n",
    ")\n",
    "corr[\"instance_size\"] = corr[\"instance\"].str.split(\"_\").str[0].astype(int)"
   ]
  },
  {
   "cell_type": "code",
   "execution_count": 30,
   "metadata": {
    "collapsed": false
   },
   "outputs": [
    {
     "data": {
      "text/plain": [
       "<matplotlib.text.Text at 0x7ff254a024a8>"
      ]
     },
     "execution_count": 30,
     "metadata": {},
     "output_type": "execute_result"
    },
    {
     "data": {
      "image/png": "[encoded data removed]",
      "text/plain": [
       "<matplotlib.figure.Figure at 0x7ff2549ecc88>"
      ]
     },
     "metadata": {},
     "output_type": "display_data"
    }
   ],
   "source": [
    "plt.plot((0, 1), (0, 0), '--', color=\"black\")\n",
    "plt.plot((0, 0), (0, 1), '--', color=\"black\")\n",
    "plt.plot((0, 1), (0,1), '--', color=\"grey\", label=\"x=y\")\n",
    "plt.scatter(corr[corr.instance_size == 50].diff_ils, corr[corr.instance_size == 50].diff_genetic, c=\"red\", label=\"Instance size 50\")\n",
    "plt.scatter(corr[corr.instance_size == 100].diff_ils, corr[corr.instance_size == 100].diff_genetic, c=\"blue\", label=\"Instance size 100\")\n",
    "plt.xlabel(\"ILS\")\n",
    "plt.ylabel(\"Genetic\")\n",
    "plt.legend()\n",
    "plt.xlim(-0.001,0.02)\n",
    "plt.ylim(-0.002,0.03);\n",
    "plt.title(\"Correlation plot of the average relative percentage deviation\")"
   ]
  },
  {
   "cell_type": "code",
   "execution_count": 15,
   "metadata": {
    "collapsed": false
   },
   "outputs": [
    {
     "data": {
      "text/html": [
       "<div>\n",
       "<table border=\"1\" class=\"dataframe\">\n",
       "  <thead>\n",
       "    <tr style=\"text-align: right;\">\n",
       "      <th></th>\n",
       "      <th>instance</th>\n",
       "      <th>diff_ils</th>\n",
       "      <th>diff_genetic</th>\n",
       "      <th>instance_size</th>\n",
       "    </tr>\n",
       "  </thead>\n",
       "  <tbody>\n",
       "    <tr>\n",
       "      <th>37</th>\n",
       "      <td>50_20_08</td>\n",
       "      <td>0.00111</td>\n",
       "      <td>0.004429</td>\n",
       "      <td>50</td>\n",
       "    </tr>\n",
       "  </tbody>\n",
       "</table>\n",
       "</div>"
      ],
      "text/plain": [
       "    instance  diff_ils  diff_genetic  instance_size\n",
       "37  50_20_08   0.00111      0.004429             50"
      ]
     },
     "execution_count": 15,
     "metadata": {},
     "output_type": "execute_result"
    }
   ],
   "source": [
    "corr.sample()"
   ]
  },
  {
   "cell_type": "markdown",
   "metadata": {},
   "source": [
    "# Determine, using statistical tests (in this case, the Wilcoxon test), whether there is a statistically significant difference between the mean relative percentage deviations reached by the two algorithms for each instance size"
   ]
  },
  {
   "cell_type": "code",
   "execution_count": 16,
   "metadata": {
    "collapsed": false
   },
   "outputs": [
    {
     "data": {
      "text/plain": [
       "WilcoxonResult(statistic=13.0, pvalue=6.3391355731224642e-06)"
      ]
     },
     "execution_count": 16,
     "metadata": {},
     "output_type": "execute_result"
    }
   ],
   "source": [
    "scipy.stats.wilcoxon(corr[corr.instance_size == 50].diff_ils, corr[corr.instance_size == 50].diff_genetic)"
   ]
  },
  {
   "cell_type": "code",
   "execution_count": 17,
   "metadata": {
    "collapsed": false
   },
   "outputs": [
    {
     "data": {
      "text/plain": [
       "WilcoxonResult(statistic=0.0, pvalue=1.7343976283205784e-06)"
      ]
     },
     "execution_count": 17,
     "metadata": {},
     "output_type": "execute_result"
    }
   ],
   "source": [
    "scipy.stats.wilcoxon(corr[corr.instance_size == 100].diff_ils, corr[corr.instance_size == 100].diff_genetic)"
   ]
  },
  {
   "cell_type": "code",
   "execution_count": null,
   "metadata": {
    "collapsed": true
   },
   "outputs": [],
   "source": []
  },
  {
   "cell_type": "markdown",
   "metadata": {},
   "source": [
    "# Measure, for each of the two implemented SLS algorithms on the first 5 instances of size 50 jobs, qualified\n",
    "run-time distributions to reach sufficiently high quality solutions (e.g. the best-known solutions available or\n",
    "some solution value close to the best-known one such as {0.1, 0.5, 1, 2}% above the best-known solutions).\n",
    "Measure the run-time distributions across 25 repetitions using a cut-off time of 10 times the termination\n",
    "criterion above."
   ]
  },
  {
   "cell_type": "code",
   "execution_count": 18,
   "metadata": {
    "collapsed": false
   },
   "outputs": [
    {
     "data": {
      "text/html": [
       "<div>\n",
       "<table border=\"1\" class=\"dataframe\">\n",
       "  <thead>\n",
       "    <tr style=\"text-align: right;\">\n",
       "      <th></th>\n",
       "      <th>algo</th>\n",
       "      <th>initial</th>\n",
       "      <th>instance</th>\n",
       "      <th>score</th>\n",
       "      <th>timeout</th>\n",
       "      <th>times</th>\n",
       "      <th>instance_size</th>\n",
       "    </tr>\n",
       "  </thead>\n",
       "  <tbody>\n",
       "    <tr>\n",
       "      <th>0</th>\n",
       "      <td>ils</td>\n",
       "      <td>607667</td>\n",
       "      <td>50_20_01</td>\n",
       "      <td>595577</td>\n",
       "      <td>700</td>\n",
       "      <td>[[0.256042, 607666], [0.956114, 603962], [3.55...</td>\n",
       "      <td>50</td>\n",
       "    </tr>\n",
       "    <tr>\n",
       "      <th>1</th>\n",
       "      <td>ils</td>\n",
       "      <td>633371</td>\n",
       "      <td>50_20_02</td>\n",
       "      <td>622444</td>\n",
       "      <td>700</td>\n",
       "      <td>[[0.156835, 623052], [51.3859, 622902], [51.54...</td>\n",
       "      <td>50</td>\n",
       "    </tr>\n",
       "    <tr>\n",
       "      <th>2</th>\n",
       "      <td>ils</td>\n",
       "      <td>606197</td>\n",
       "      <td>50_20_03</td>\n",
       "      <td>592125</td>\n",
       "      <td>700</td>\n",
       "      <td>[[0.301871, 603104], [0.7346, 602951], [0.9571...</td>\n",
       "      <td>50</td>\n",
       "    </tr>\n",
       "    <tr>\n",
       "      <th>3</th>\n",
       "      <td>ils</td>\n",
       "      <td>675359</td>\n",
       "      <td>50_20_04</td>\n",
       "      <td>667122</td>\n",
       "      <td>700</td>\n",
       "      <td>[[0.90578, 674940], [0.954233, 674796], [1.461...</td>\n",
       "      <td>50</td>\n",
       "    </tr>\n",
       "    <tr>\n",
       "      <th>4</th>\n",
       "      <td>ils</td>\n",
       "      <td>673982</td>\n",
       "      <td>50_20_05</td>\n",
       "      <td>654511</td>\n",
       "      <td>700</td>\n",
       "      <td>[[0.172859, 673573], [1.44066, 672760], [1.724...</td>\n",
       "      <td>50</td>\n",
       "    </tr>\n",
       "  </tbody>\n",
       "</table>\n",
       "</div>"
      ],
      "text/plain": [
       "  algo initial  instance   score  timeout  \\\n",
       "0  ils  607667  50_20_01  595577      700   \n",
       "1  ils  633371  50_20_02  622444      700   \n",
       "2  ils  606197  50_20_03  592125      700   \n",
       "3  ils  675359  50_20_04  667122      700   \n",
       "4  ils  673982  50_20_05  654511      700   \n",
       "\n",
       "                                               times instance_size  \n",
       "0  [[0.256042, 607666], [0.956114, 603962], [3.55...            50  \n",
       "1  [[0.156835, 623052], [51.3859, 622902], [51.54...            50  \n",
       "2  [[0.301871, 603104], [0.7346, 602951], [0.9571...            50  \n",
       "3  [[0.90578, 674940], [0.954233, 674796], [1.461...            50  \n",
       "4  [[0.172859, 673573], [1.44066, 672760], [1.724...            50  "
      ]
     },
     "execution_count": 18,
     "metadata": {},
     "output_type": "execute_result"
    }
   ],
   "source": [
    "raw2 = list(map(lambda x: json.loads(x), open(\"ex2.data\").read().strip().split(\"\\n\")))\n",
    "\n",
    "exp2 = pd.DataFrame(raw2)\n",
    "exp2[\"instance\"] = exp2[\"instance\"].apply(lambda x: x.split(\"/\")[1].strip())\n",
    "exp2[\"instance_size\"] = exp2[\"instance\"].apply(lambda x: x.split(\"_\")[0])\n",
    "exp2[\"score\"] = exp2[\"score\"].apply(lambda x: int(x))\n",
    "exp2.head()"
   ]
  },
  {
   "cell_type": "code",
   "execution_count": 19,
   "metadata": {
    "collapsed": false
   },
   "outputs": [
    {
     "data": {
      "text/html": [
       "<div>\n",
       "<table border=\"1\" class=\"dataframe\">\n",
       "  <thead>\n",
       "    <tr style=\"text-align: right;\">\n",
       "      <th></th>\n",
       "      <th>algo</th>\n",
       "      <th>initial</th>\n",
       "      <th>instance</th>\n",
       "      <th>score</th>\n",
       "      <th>timeout</th>\n",
       "      <th>times</th>\n",
       "      <th>instance_size</th>\n",
       "      <th>best_solution</th>\n",
       "    </tr>\n",
       "  </thead>\n",
       "  <tbody>\n",
       "    <tr>\n",
       "      <th>0</th>\n",
       "      <td>ils</td>\n",
       "      <td>607667</td>\n",
       "      <td>50_20_01</td>\n",
       "      <td>595577</td>\n",
       "      <td>700</td>\n",
       "      <td>[[0.256042, 607666], [0.956114, 603962], [3.55...</td>\n",
       "      <td>50</td>\n",
       "      <td>595260.0</td>\n",
       "    </tr>\n",
       "    <tr>\n",
       "      <th>1</th>\n",
       "      <td>ils</td>\n",
       "      <td>633371</td>\n",
       "      <td>50_20_02</td>\n",
       "      <td>622444</td>\n",
       "      <td>700</td>\n",
       "      <td>[[0.156835, 623052], [51.3859, 622902], [51.54...</td>\n",
       "      <td>50</td>\n",
       "      <td>622342.0</td>\n",
       "    </tr>\n",
       "    <tr>\n",
       "      <th>2</th>\n",
       "      <td>ils</td>\n",
       "      <td>606197</td>\n",
       "      <td>50_20_03</td>\n",
       "      <td>592125</td>\n",
       "      <td>700</td>\n",
       "      <td>[[0.301871, 603104], [0.7346, 602951], [0.9571...</td>\n",
       "      <td>50</td>\n",
       "      <td>592745.0</td>\n",
       "    </tr>\n",
       "    <tr>\n",
       "      <th>3</th>\n",
       "      <td>ils</td>\n",
       "      <td>675359</td>\n",
       "      <td>50_20_04</td>\n",
       "      <td>667122</td>\n",
       "      <td>700</td>\n",
       "      <td>[[0.90578, 674940], [0.954233, 674796], [1.461...</td>\n",
       "      <td>50</td>\n",
       "      <td>666621.0</td>\n",
       "    </tr>\n",
       "    <tr>\n",
       "      <th>4</th>\n",
       "      <td>ils</td>\n",
       "      <td>673982</td>\n",
       "      <td>50_20_05</td>\n",
       "      <td>654511</td>\n",
       "      <td>700</td>\n",
       "      <td>[[0.172859, 673573], [1.44066, 672760], [1.724...</td>\n",
       "      <td>50</td>\n",
       "      <td>653748.0</td>\n",
       "    </tr>\n",
       "    <tr>\n",
       "      <th>5</th>\n",
       "      <td>ils</td>\n",
       "      <td>607667</td>\n",
       "      <td>50_20_01</td>\n",
       "      <td>595577</td>\n",
       "      <td>700</td>\n",
       "      <td>[[0.254951, 607666], [0.927411, 603962], [3.69...</td>\n",
       "      <td>50</td>\n",
       "      <td>595260.0</td>\n",
       "    </tr>\n",
       "    <tr>\n",
       "      <th>6</th>\n",
       "      <td>ils</td>\n",
       "      <td>633371</td>\n",
       "      <td>50_20_02</td>\n",
       "      <td>622444</td>\n",
       "      <td>700</td>\n",
       "      <td>[[0.155999, 623052], [50.95, 622902], [51.0953...</td>\n",
       "      <td>50</td>\n",
       "      <td>622342.0</td>\n",
       "    </tr>\n",
       "    <tr>\n",
       "      <th>7</th>\n",
       "      <td>ils</td>\n",
       "      <td>606197</td>\n",
       "      <td>50_20_03</td>\n",
       "      <td>592125</td>\n",
       "      <td>700</td>\n",
       "      <td>[[0.270539, 603104], [0.700684, 602951], [0.92...</td>\n",
       "      <td>50</td>\n",
       "      <td>592745.0</td>\n",
       "    </tr>\n",
       "    <tr>\n",
       "      <th>8</th>\n",
       "      <td>ils</td>\n",
       "      <td>675359</td>\n",
       "      <td>50_20_04</td>\n",
       "      <td>667122</td>\n",
       "      <td>700</td>\n",
       "      <td>[[0.857115, 674940], [0.904307, 674796], [1.40...</td>\n",
       "      <td>50</td>\n",
       "      <td>666621.0</td>\n",
       "    </tr>\n",
       "    <tr>\n",
       "      <th>9</th>\n",
       "      <td>ils</td>\n",
       "      <td>673982</td>\n",
       "      <td>50_20_05</td>\n",
       "      <td>654511</td>\n",
       "      <td>700</td>\n",
       "      <td>[[0.174626, 673573], [1.39998, 672760], [1.695...</td>\n",
       "      <td>50</td>\n",
       "      <td>653748.0</td>\n",
       "    </tr>\n",
       "  </tbody>\n",
       "</table>\n",
       "</div>"
      ],
      "text/plain": [
       "  algo initial  instance   score  timeout  \\\n",
       "0  ils  607667  50_20_01  595577      700   \n",
       "1  ils  633371  50_20_02  622444      700   \n",
       "2  ils  606197  50_20_03  592125      700   \n",
       "3  ils  675359  50_20_04  667122      700   \n",
       "4  ils  673982  50_20_05  654511      700   \n",
       "5  ils  607667  50_20_01  595577      700   \n",
       "6  ils  633371  50_20_02  622444      700   \n",
       "7  ils  606197  50_20_03  592125      700   \n",
       "8  ils  675359  50_20_04  667122      700   \n",
       "9  ils  673982  50_20_05  654511      700   \n",
       "\n",
       "                                               times instance_size  \\\n",
       "0  [[0.256042, 607666], [0.956114, 603962], [3.55...            50   \n",
       "1  [[0.156835, 623052], [51.3859, 622902], [51.54...            50   \n",
       "2  [[0.301871, 603104], [0.7346, 602951], [0.9571...            50   \n",
       "3  [[0.90578, 674940], [0.954233, 674796], [1.461...            50   \n",
       "4  [[0.172859, 673573], [1.44066, 672760], [1.724...            50   \n",
       "5  [[0.254951, 607666], [0.927411, 603962], [3.69...            50   \n",
       "6  [[0.155999, 623052], [50.95, 622902], [51.0953...            50   \n",
       "7  [[0.270539, 603104], [0.700684, 602951], [0.92...            50   \n",
       "8  [[0.857115, 674940], [0.904307, 674796], [1.40...            50   \n",
       "9  [[0.174626, 673573], [1.39998, 672760], [1.695...            50   \n",
       "\n",
       "   best_solution  \n",
       "0       595260.0  \n",
       "1       622342.0  \n",
       "2       592745.0  \n",
       "3       666621.0  \n",
       "4       653748.0  \n",
       "5       595260.0  \n",
       "6       622342.0  \n",
       "7       592745.0  \n",
       "8       666621.0  \n",
       "9       653748.0  "
      ]
     },
     "execution_count": 19,
     "metadata": {},
     "output_type": "execute_result"
    }
   ],
   "source": [
    "e2 = pd.merge(exp2, best, on=\"instance\", how=\"left\")\n",
    "e2.head(10)"
   ]
  },
  {
   "cell_type": "code",
   "execution_count": null,
   "metadata": {
    "collapsed": true
   },
   "outputs": [],
   "source": []
  },
  {
   "cell_type": "code",
   "execution_count": 20,
   "metadata": {
    "collapsed": true
   },
   "outputs": [],
   "source": [
    "def extract_time(cutoff):\n",
    "    def inner(row):\n",
    "        enough_score = (cutoff + 1) * row.best_solution\n",
    "        \n",
    "        data = row.times\n",
    "        for item in data:\n",
    "            time = item[0]\n",
    "            score = int(item[1])\n",
    "            if score < enough_score:\n",
    "                return time\n",
    "    return inner"
   ]
  },
  {
   "cell_type": "code",
   "execution_count": 21,
   "metadata": {
    "collapsed": false
   },
   "outputs": [],
   "source": [
    "e2[\"below_2\"] = e2.apply(extract_time(0.02), axis=1)\n",
    "e2[\"below_1\"] = e2.apply(extract_time(0.01), axis=1)\n",
    "e2[\"below_05\"] = e2.apply(extract_time(0.005), axis=1)\n",
    "e2[\"below_01\"] = e2.apply(extract_time(0.001), axis=1)\n",
    "e2[\"diff\"] = (e2[\"score\"] - e2['best_solution']) / e2['best_solution']"
   ]
  },
  {
   "cell_type": "code",
   "execution_count": 22,
   "metadata": {
    "collapsed": false
   },
   "outputs": [
    {
     "data": {
      "text/html": [
       "<div>\n",
       "<table border=\"1\" class=\"dataframe\">\n",
       "  <thead>\n",
       "    <tr style=\"text-align: right;\">\n",
       "      <th></th>\n",
       "      <th>algo</th>\n",
       "      <th>initial</th>\n",
       "      <th>instance</th>\n",
       "      <th>score</th>\n",
       "      <th>timeout</th>\n",
       "      <th>times</th>\n",
       "      <th>instance_size</th>\n",
       "      <th>best_solution</th>\n",
       "      <th>below_2</th>\n",
       "      <th>below_1</th>\n",
       "      <th>below_05</th>\n",
       "      <th>below_01</th>\n",
       "      <th>diff</th>\n",
       "    </tr>\n",
       "  </thead>\n",
       "  <tbody>\n",
       "    <tr>\n",
       "      <th>0</th>\n",
       "      <td>ils</td>\n",
       "      <td>607667</td>\n",
       "      <td>50_20_01</td>\n",
       "      <td>595577</td>\n",
       "      <td>700</td>\n",
       "      <td>[[0.256042, 607666], [0.956114, 603962], [3.55...</td>\n",
       "      <td>50</td>\n",
       "      <td>595260.0</td>\n",
       "      <td>0.956114</td>\n",
       "      <td>17.514800</td>\n",
       "      <td>47.095600</td>\n",
       "      <td>451.2250</td>\n",
       "      <td>0.000533</td>\n",
       "    </tr>\n",
       "    <tr>\n",
       "      <th>1</th>\n",
       "      <td>ils</td>\n",
       "      <td>633371</td>\n",
       "      <td>50_20_02</td>\n",
       "      <td>622444</td>\n",
       "      <td>700</td>\n",
       "      <td>[[0.156835, 623052], [51.3859, 622902], [51.54...</td>\n",
       "      <td>50</td>\n",
       "      <td>622342.0</td>\n",
       "      <td>0.156835</td>\n",
       "      <td>0.156835</td>\n",
       "      <td>0.156835</td>\n",
       "      <td>51.3859</td>\n",
       "      <td>0.000164</td>\n",
       "    </tr>\n",
       "    <tr>\n",
       "      <th>2</th>\n",
       "      <td>ils</td>\n",
       "      <td>606197</td>\n",
       "      <td>50_20_03</td>\n",
       "      <td>592125</td>\n",
       "      <td>700</td>\n",
       "      <td>[[0.301871, 603104], [0.7346, 602951], [0.9571...</td>\n",
       "      <td>50</td>\n",
       "      <td>592745.0</td>\n",
       "      <td>0.301871</td>\n",
       "      <td>2.264050</td>\n",
       "      <td>10.453800</td>\n",
       "      <td>64.9041</td>\n",
       "      <td>-0.001046</td>\n",
       "    </tr>\n",
       "    <tr>\n",
       "      <th>3</th>\n",
       "      <td>ils</td>\n",
       "      <td>675359</td>\n",
       "      <td>50_20_04</td>\n",
       "      <td>667122</td>\n",
       "      <td>700</td>\n",
       "      <td>[[0.90578, 674940], [0.954233, 674796], [1.461...</td>\n",
       "      <td>50</td>\n",
       "      <td>666621.0</td>\n",
       "      <td>0.905780</td>\n",
       "      <td>6.598680</td>\n",
       "      <td>34.466700</td>\n",
       "      <td>564.2470</td>\n",
       "      <td>0.000752</td>\n",
       "    </tr>\n",
       "    <tr>\n",
       "      <th>4</th>\n",
       "      <td>ils</td>\n",
       "      <td>673982</td>\n",
       "      <td>50_20_05</td>\n",
       "      <td>654511</td>\n",
       "      <td>700</td>\n",
       "      <td>[[0.172859, 673573], [1.44066, 672760], [1.724...</td>\n",
       "      <td>50</td>\n",
       "      <td>653748.0</td>\n",
       "      <td>3.561460</td>\n",
       "      <td>3.705700</td>\n",
       "      <td>8.576760</td>\n",
       "      <td>NaN</td>\n",
       "      <td>0.001167</td>\n",
       "    </tr>\n",
       "  </tbody>\n",
       "</table>\n",
       "</div>"
      ],
      "text/plain": [
       "  algo initial  instance   score  timeout  \\\n",
       "0  ils  607667  50_20_01  595577      700   \n",
       "1  ils  633371  50_20_02  622444      700   \n",
       "2  ils  606197  50_20_03  592125      700   \n",
       "3  ils  675359  50_20_04  667122      700   \n",
       "4  ils  673982  50_20_05  654511      700   \n",
       "\n",
       "                                               times instance_size  \\\n",
       "0  [[0.256042, 607666], [0.956114, 603962], [3.55...            50   \n",
       "1  [[0.156835, 623052], [51.3859, 622902], [51.54...            50   \n",
       "2  [[0.301871, 603104], [0.7346, 602951], [0.9571...            50   \n",
       "3  [[0.90578, 674940], [0.954233, 674796], [1.461...            50   \n",
       "4  [[0.172859, 673573], [1.44066, 672760], [1.724...            50   \n",
       "\n",
       "   best_solution   below_2    below_1   below_05  below_01      diff  \n",
       "0       595260.0  0.956114  17.514800  47.095600  451.2250  0.000533  \n",
       "1       622342.0  0.156835   0.156835   0.156835   51.3859  0.000164  \n",
       "2       592745.0  0.301871   2.264050  10.453800   64.9041 -0.001046  \n",
       "3       666621.0  0.905780   6.598680  34.466700  564.2470  0.000752  \n",
       "4       653748.0  3.561460   3.705700   8.576760       NaN  0.001167  "
      ]
     },
     "execution_count": 22,
     "metadata": {},
     "output_type": "execute_result"
    }
   ],
   "source": [
    "e2.head()"
   ]
  },
  {
   "cell_type": "code",
   "execution_count": 40,
   "metadata": {
    "collapsed": false,
    "scrolled": false
   },
   "outputs": [
    {
     "data": {
      "image/png": "[encoded data removed]",
      "text/plain": [
       "<matplotlib.figure.Figure at 0x7ff2545c7550>"
      ]
     },
     "metadata": {},
     "output_type": "display_data"
    },
    {
     "data": {
      "image/png": "[encoded data removed]",
      "text/plain": [
       "<matplotlib.figure.Figure at 0x7ff254843630>"
      ]
     },
     "metadata": {},
     "output_type": "display_data"
    },
    {
     "data": {
      "image/png": "[encoded data removed]",
      "text/plain": [
       "<matplotlib.figure.Figure at 0x7ff254812f28>"
      ]
     },
     "metadata": {},
     "output_type": "display_data"
    },
    {
     "data": {
      "image/png": "[encoded data removed]",
      "text/plain": [
       "<matplotlib.figure.Figure at 0x7ff2542c8160>"
      ]
     },
     "metadata": {},
     "output_type": "display_data"
    }
   ],
   "source": [
    "for col, x in zip(\n",
    "        [\"below_2\", \"below_1\", \"below_05\", \"below_01\"],\n",
    "        [\"2%\", \"1%\", \"0.5%\", \"0.1%\"]\n",
    "    ):\n",
    "    f, (ax1, ax2) = plt.subplots(1, 2, sharex=True, sharey=True, figsize=(15, 5))\n",
    "    f.suptitle(\"Time before finding a solution %s above the best known solution\" % x)\n",
    "    ax1.set_xlabel('Time (seconds)')\n",
    "    ax1.set_ylabel('Count')\n",
    "    ils = e2[e2.algo == 'ils'][col]\n",
    "    genetic = e2[e2.algo == 'genetic'][col]\n",
    "    m = np.max([ils.max(), genetic.max()])\n",
    "    ax1.hist(ils.dropna(), bins=np.linspace(0, m, num=100))\n",
    "    ax1.set_title(\"ILS\")\n",
    "    ax2.hist(genetic.dropna(), bins=np.linspace(0, m, num=100))\n",
    "    ax2.set_title(\"Genetic\")\n",
    "    ax2.set_xlabel('Time (seconds)')\n",
    "    plt.show()"
   ]
  },
  {
   "cell_type": "markdown",
   "metadata": {
    "collapsed": true
   },
   "source": [
    "# Present the results as in the previous implementation exercise using tables and statistical tests."
   ]
  },
  {
   "cell_type": "code",
   "execution_count": 42,
   "metadata": {
    "collapsed": false
   },
   "outputs": [
    {
     "name": "stdout",
     "output_type": "stream",
     "text": [
      "125 125\n",
      "125 125\n",
      "125 105\n",
      "79 68\n"
     ]
    }
   ],
   "source": [
    "for col, x in zip(\n",
    "        [\"below_2\", \"below_1\", \"below_05\", \"below_01\"],\n",
    "        [\"2%\", \"1%\", \"0.5%\", \"0.1%\"]\n",
    "    ):\n",
    "    \n",
    "    ils = e2[e2.algo == 'ils'][col].dropna()\n",
    "    genetic = e2[e2.algo == 'genetic'][col].dropna()\n",
    "    print(ils.index.size, genetic.index.size)"
   ]
  },
  {
   "cell_type": "code",
   "execution_count": 46,
   "metadata": {
    "collapsed": false
   },
   "outputs": [
    {
     "name": "stdout",
     "output_type": "stream",
     "text": [
      "WilcoxonResult(statistic=0.0, pvalue=2.9643799464905646e-22)\n",
      "WilcoxonResult(statistic=35.0, pvalue=6.8781487523225328e-22)\n",
      "WilcoxonResult(statistic=337.0, pvalue=7.2243460833710146e-19)\n",
      "WilcoxonResult(statistic=543.0, pvalue=6.0723338857135366e-17)\n"
     ]
    },
    {
     "name": "stderr",
     "output_type": "stream",
     "text": [
      "/home/nikita/.local/lib/python3.5/site-packages/scipy/stats/morestats.py:2391: RuntimeWarning: invalid value encountered in greater\n",
      "  r_plus = np.sum((d > 0) * r, axis=0)\n",
      "/home/nikita/.local/lib/python3.5/site-packages/scipy/stats/morestats.py:2392: RuntimeWarning: invalid value encountered in less\n",
      "  r_minus = np.sum((d < 0) * r, axis=0)\n"
     ]
    }
   ],
   "source": [
    "for col, x in zip(\n",
    "        [\"below_2\", \"below_1\", \"below_05\", \"below_01\"],\n",
    "        [\"2%\", \"1%\", \"0.5%\", \"0.1%\"]\n",
    "    ):\n",
    "    \n",
    "    ils = e2[e2.algo == 'ils'][col]\n",
    "    genetic = e2[e2.algo == 'genetic'][col]\n",
    "    print(scipy.stats.wilcoxon(\n",
    "            ils,\n",
    "            genetic\n",
    "    ))"
   ]
  },
  {
   "cell_type": "code",
   "execution_count": null,
   "metadata": {
    "collapsed": true
   },
   "outputs": [],
   "source": []
  }
 ],
 "metadata": {
  "kernelspec": {
   "display_name": "Python 3",
   "language": "python",
   "name": "python3"
  },
  "language_info": {
   "codemirror_mode": {
    "name": "ipython",
    "version": 3
   },
   "file_extension": ".py",
   "mimetype": "text/x-python",
   "name": "python",
   "nbconvert_exporter": "python",
   "pygments_lexer": "ipython3",
   "version": "3.5.3"
  }
 },
 "nbformat": 4,
 "nbformat_minor": 1
}
